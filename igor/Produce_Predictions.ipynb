{
 "cells": [
  {
   "cell_type": "code",
   "execution_count": 9,
   "metadata": {},
   "outputs": [
    {
     "name": "stdout",
     "output_type": "stream",
     "text": [
      "Number of TRAINING observations: 1460\n",
      "Number of TESTING observations: 1459\n",
      "Total number of observations combined: 2919\n"
     ]
    },
    {
     "data": {
      "text/html": [
       "<div>\n",
       "<style scoped>\n",
       "    .dataframe tbody tr th:only-of-type {\n",
       "        vertical-align: middle;\n",
       "    }\n",
       "\n",
       "    .dataframe tbody tr th {\n",
       "        vertical-align: top;\n",
       "    }\n",
       "\n",
       "    .dataframe thead th {\n",
       "        text-align: right;\n",
       "    }\n",
       "</style>\n",
       "<table border=\"1\" class=\"dataframe\">\n",
       "  <thead>\n",
       "    <tr style=\"text-align: right;\">\n",
       "      <th></th>\n",
       "      <th>Id</th>\n",
       "      <th>MSSubClass</th>\n",
       "      <th>MSZoning</th>\n",
       "      <th>LotFrontage</th>\n",
       "      <th>LotArea</th>\n",
       "      <th>Street</th>\n",
       "      <th>Alley</th>\n",
       "      <th>LotShape</th>\n",
       "      <th>LandContour</th>\n",
       "      <th>Utilities</th>\n",
       "      <th>...</th>\n",
       "      <th>PoolQC</th>\n",
       "      <th>Fence</th>\n",
       "      <th>MiscFeature</th>\n",
       "      <th>MiscVal</th>\n",
       "      <th>MoSold</th>\n",
       "      <th>YrSold</th>\n",
       "      <th>SaleType</th>\n",
       "      <th>SaleCondition</th>\n",
       "      <th>SalePrice</th>\n",
       "      <th>ObservationType</th>\n",
       "    </tr>\n",
       "  </thead>\n",
       "  <tbody>\n",
       "    <tr>\n",
       "      <th>0</th>\n",
       "      <td>1461</td>\n",
       "      <td>20</td>\n",
       "      <td>RH</td>\n",
       "      <td>80.0</td>\n",
       "      <td>11622</td>\n",
       "      <td>Pave</td>\n",
       "      <td>NaN</td>\n",
       "      <td>Reg</td>\n",
       "      <td>Lvl</td>\n",
       "      <td>AllPub</td>\n",
       "      <td>...</td>\n",
       "      <td>NaN</td>\n",
       "      <td>MnPrv</td>\n",
       "      <td>NaN</td>\n",
       "      <td>0</td>\n",
       "      <td>6</td>\n",
       "      <td>2010</td>\n",
       "      <td>WD</td>\n",
       "      <td>Normal</td>\n",
       "      <td>-999999</td>\n",
       "      <td>0</td>\n",
       "    </tr>\n",
       "    <tr>\n",
       "      <th>1</th>\n",
       "      <td>1462</td>\n",
       "      <td>20</td>\n",
       "      <td>RL</td>\n",
       "      <td>81.0</td>\n",
       "      <td>14267</td>\n",
       "      <td>Pave</td>\n",
       "      <td>NaN</td>\n",
       "      <td>IR1</td>\n",
       "      <td>Lvl</td>\n",
       "      <td>AllPub</td>\n",
       "      <td>...</td>\n",
       "      <td>NaN</td>\n",
       "      <td>NaN</td>\n",
       "      <td>Gar2</td>\n",
       "      <td>12500</td>\n",
       "      <td>6</td>\n",
       "      <td>2010</td>\n",
       "      <td>WD</td>\n",
       "      <td>Normal</td>\n",
       "      <td>-999999</td>\n",
       "      <td>0</td>\n",
       "    </tr>\n",
       "    <tr>\n",
       "      <th>2</th>\n",
       "      <td>1463</td>\n",
       "      <td>60</td>\n",
       "      <td>RL</td>\n",
       "      <td>74.0</td>\n",
       "      <td>13830</td>\n",
       "      <td>Pave</td>\n",
       "      <td>NaN</td>\n",
       "      <td>IR1</td>\n",
       "      <td>Lvl</td>\n",
       "      <td>AllPub</td>\n",
       "      <td>...</td>\n",
       "      <td>NaN</td>\n",
       "      <td>MnPrv</td>\n",
       "      <td>NaN</td>\n",
       "      <td>0</td>\n",
       "      <td>3</td>\n",
       "      <td>2010</td>\n",
       "      <td>WD</td>\n",
       "      <td>Normal</td>\n",
       "      <td>-999999</td>\n",
       "      <td>0</td>\n",
       "    </tr>\n",
       "    <tr>\n",
       "      <th>3</th>\n",
       "      <td>1464</td>\n",
       "      <td>60</td>\n",
       "      <td>RL</td>\n",
       "      <td>78.0</td>\n",
       "      <td>9978</td>\n",
       "      <td>Pave</td>\n",
       "      <td>NaN</td>\n",
       "      <td>IR1</td>\n",
       "      <td>Lvl</td>\n",
       "      <td>AllPub</td>\n",
       "      <td>...</td>\n",
       "      <td>NaN</td>\n",
       "      <td>NaN</td>\n",
       "      <td>NaN</td>\n",
       "      <td>0</td>\n",
       "      <td>6</td>\n",
       "      <td>2010</td>\n",
       "      <td>WD</td>\n",
       "      <td>Normal</td>\n",
       "      <td>-999999</td>\n",
       "      <td>0</td>\n",
       "    </tr>\n",
       "    <tr>\n",
       "      <th>4</th>\n",
       "      <td>1465</td>\n",
       "      <td>120</td>\n",
       "      <td>RL</td>\n",
       "      <td>43.0</td>\n",
       "      <td>5005</td>\n",
       "      <td>Pave</td>\n",
       "      <td>NaN</td>\n",
       "      <td>IR1</td>\n",
       "      <td>HLS</td>\n",
       "      <td>AllPub</td>\n",
       "      <td>...</td>\n",
       "      <td>NaN</td>\n",
       "      <td>NaN</td>\n",
       "      <td>NaN</td>\n",
       "      <td>0</td>\n",
       "      <td>1</td>\n",
       "      <td>2010</td>\n",
       "      <td>WD</td>\n",
       "      <td>Normal</td>\n",
       "      <td>-999999</td>\n",
       "      <td>0</td>\n",
       "    </tr>\n",
       "  </tbody>\n",
       "</table>\n",
       "<p>5 rows × 82 columns</p>\n",
       "</div>"
      ],
      "text/plain": [
       "     Id  MSSubClass MSZoning  LotFrontage  LotArea Street Alley LotShape  \\\n",
       "0  1461          20       RH         80.0    11622   Pave   NaN      Reg   \n",
       "1  1462          20       RL         81.0    14267   Pave   NaN      IR1   \n",
       "2  1463          60       RL         74.0    13830   Pave   NaN      IR1   \n",
       "3  1464          60       RL         78.0     9978   Pave   NaN      IR1   \n",
       "4  1465         120       RL         43.0     5005   Pave   NaN      IR1   \n",
       "\n",
       "  LandContour Utilities       ...        PoolQC  Fence MiscFeature MiscVal  \\\n",
       "0         Lvl    AllPub       ...           NaN  MnPrv         NaN       0   \n",
       "1         Lvl    AllPub       ...           NaN    NaN        Gar2   12500   \n",
       "2         Lvl    AllPub       ...           NaN  MnPrv         NaN       0   \n",
       "3         Lvl    AllPub       ...           NaN    NaN         NaN       0   \n",
       "4         HLS    AllPub       ...           NaN    NaN         NaN       0   \n",
       "\n",
       "  MoSold YrSold SaleType  SaleCondition  SalePrice  ObservationType  \n",
       "0      6   2010       WD         Normal    -999999                0  \n",
       "1      6   2010       WD         Normal    -999999                0  \n",
       "2      3   2010       WD         Normal    -999999                0  \n",
       "3      6   2010       WD         Normal    -999999                0  \n",
       "4      1   2010       WD         Normal    -999999                0  \n",
       "\n",
       "[5 rows x 82 columns]"
      ]
     },
     "execution_count": 9,
     "metadata": {},
     "output_type": "execute_result"
    }
   ],
   "source": [
    "import numpy as np\n",
    "import pandas as pd\n",
    "\n",
    "train = pd.read_csv('C:/Users/Igor Gitlevich/Documents/Academy/ML_project/train.csv')\n",
    "test = pd.read_csv('C:/Users/Igor Gitlevich/Documents/Academy/ML_project/test.csv')\n",
    "\n",
    "test['SalePrice'] = -999999\n",
    "test['ObservationType'] = 0\n",
    "\n",
    "train['ObservationType'] = 1\n",
    "\n",
    "print(\"Number of TRAINING observations:\", len(train))\n",
    "print(\"Number of TESTING observations:\", len(test))\n",
    "\n",
    "all_data = pd.concat([test, train], axis=0)\n",
    "\n",
    "print(\"Total number of observations combined:\", len(all_data))\n",
    "all_data.head()"
   ]
  },
  {
   "cell_type": "code",
   "execution_count": 10,
   "metadata": {},
   "outputs": [
    {
     "name": "stdout",
     "output_type": "stream",
     "text": [
      "Series([], dtype: bool)\n"
     ]
    },
    {
     "data": {
      "text/plain": [
       "MSZoning           4\n",
       "LotFrontage      486\n",
       "Alley           2721\n",
       "Utilities          2\n",
       "Exterior1st        1\n",
       "Exterior2nd        1\n",
       "MasVnrType        24\n",
       "MasVnrArea        23\n",
       "BsmtQual          81\n",
       "BsmtCond          82\n",
       "BsmtExposure      82\n",
       "BsmtFinType1      79\n",
       "BsmtFinSF1         1\n",
       "BsmtFinType2      80\n",
       "BsmtFinSF2         1\n",
       "BsmtUnfSF          1\n",
       "TotalBsmtSF        1\n",
       "Electrical         1\n",
       "BsmtFullBath       2\n",
       "BsmtHalfBath       2\n",
       "KitchenQual        1\n",
       "Functional         2\n",
       "FireplaceQu     1420\n",
       "GarageType       157\n",
       "GarageYrBlt      159\n",
       "GarageFinish     159\n",
       "GarageCars         1\n",
       "GarageArea         1\n",
       "GarageQual       159\n",
       "GarageCond       159\n",
       "PoolQC          2909\n",
       "Fence           2348\n",
       "MiscFeature     2814\n",
       "SaleType           1\n",
       "dtype: int64"
      ]
     },
     "execution_count": 10,
     "metadata": {},
     "output_type": "execute_result"
    }
   ],
   "source": [
    "#No empty rows\n",
    "null_rows_all = all_data.isnull().all(axis=1)\n",
    "print(null_rows_all[null_rows_all!=False])\n",
    "\n",
    "#Missingness\n",
    "null_columns = np.sum(all_data.isnull(), axis=0)\n",
    "null_columns[null_columns!=0]\n"
   ]
  },
  {
   "cell_type": "code",
   "execution_count": 11,
   "metadata": {},
   "outputs": [
    {
     "data": {
      "text/plain": [
       "Series([], dtype: int64)"
      ]
     },
     "execution_count": 11,
     "metadata": {},
     "output_type": "execute_result"
    }
   ],
   "source": [
    "#Impute 0\n",
    "all_data['LotFrontage'] = all_data['LotFrontage'].fillna(0)\n",
    "all_data['GarageYrBlt'] = all_data['GarageYrBlt'].fillna(0)\n",
    "all_data['MasVnrArea'] = all_data['MasVnrArea'].fillna(0)\n",
    "\n",
    "#Handle missigness by imputing with 'None' for categorical\n",
    "all_data.groupby('Alley').size()\n",
    "all_data['Alley'] = all_data['Alley'].fillna('None')\n",
    "all_data['MasVnrType'] = all_data['MasVnrType'].fillna('None')\n",
    "all_data['BsmtQual'] = all_data['BsmtQual'].fillna('None')\n",
    "all_data['BsmtCond'] = all_data['BsmtCond'].fillna('None')\n",
    "all_data['BsmtExposure'] = all_data['BsmtExposure'].fillna('None')\n",
    "all_data['BsmtFinType1'] = all_data['BsmtFinType1'].fillna('None')\n",
    "all_data['BsmtFinType2'] = all_data['BsmtFinType2'].fillna('None')\n",
    "all_data['Electrical'] = all_data['Electrical'].fillna('None')\n",
    "all_data['FireplaceQu'] = all_data['FireplaceQu'].fillna('None')\n",
    "all_data['GarageType'] = all_data['GarageType'].fillna('None')\n",
    "all_data['GarageFinish'] = all_data['GarageFinish'].fillna('None')\n",
    "all_data['GarageQual'] = all_data['GarageQual'].fillna('None')\n",
    "all_data['GarageCond'] = all_data['GarageCond'].fillna('None')\n",
    "all_data['PoolQC'] = all_data['PoolQC'].fillna('None')\n",
    "all_data['Fence'] = all_data['Fence'].fillna('None')\n",
    "all_data['MiscFeature'] = all_data['MiscFeature'].fillna('None')\n",
    "\n",
    "#Nulls present only in the test set\n",
    "all_data['BsmtFinSF1'] = all_data['BsmtFinSF1'].fillna(0)\n",
    "all_data['BsmtFinSF2'] = all_data['BsmtFinSF2'].fillna(0)\n",
    "all_data['BsmtUnfSF'] = all_data['BsmtUnfSF'].fillna(0)\n",
    "all_data['TotalBsmtSF'] = all_data['TotalBsmtSF'].fillna(0)\n",
    "all_data['BsmtFullBath'] = all_data['BsmtFullBath'].fillna(0)\n",
    "all_data['BsmtHalfBath'] = all_data['BsmtHalfBath'].fillna(0)\n",
    "all_data['GarageCars'] = all_data['GarageCars'].fillna(0)\n",
    "all_data['GarageArea'] = all_data['GarageArea'].fillna(0)\n",
    "\n",
    "all_data['MSZoning'] = all_data['MSZoning'].fillna('None')\n",
    "all_data['Utilities'] = all_data['Utilities'].fillna('None')\n",
    "all_data['Exterior1st'] = all_data['Exterior1st'].fillna('None')\n",
    "all_data['Exterior2nd'] = all_data['Exterior2nd'].fillna('None')\n",
    "all_data['KitchenQual'] = all_data['KitchenQual'].fillna('None')\n",
    "all_data['Functional'] = all_data['Functional'].fillna('None')\n",
    "all_data['SaleType'] = all_data['SaleType'].fillna('None')\n",
    "\n",
    "#Check again\n",
    "null_columns = np.sum(all_data.isnull(), axis=0)\n",
    "null_columns[null_columns!=0]"
   ]
  },
  {
   "cell_type": "code",
   "execution_count": 74,
   "metadata": {
    "scrolled": true
   },
   "outputs": [],
   "source": [
    "from sklearn.ensemble import RandomForestRegressor\n",
    "from sklearn.ensemble import ExtraTreesRegressor\n",
    "\n",
    "X = pd.get_dummies(all_data)\n",
    "X_train = X[X['ObservationType']==1]\n",
    "\n",
    "X_train = X_train.iloc[:,1:].drop('ObservationType', axis=1)\n",
    "\n",
    "\n",
    "X_train = X_train [X_train ['SalePrice'] <= 500000]\n",
    "X_train  = X_train.reset_index()\n",
    "Y_train = X_train['SalePrice']\n",
    "X_train = X_train.drop('SalePrice', axis = 1)\n",
    "\n",
    "X_test = X[X['ObservationType']==0].iloc[:,1:]\n",
    "X_test = X_test.drop('ObservationType', axis=1)\n"
   ]
  },
  {
   "cell_type": "code",
   "execution_count": 103,
   "metadata": {},
   "outputs": [
    {
     "name": "stdout",
     "output_type": "stream",
     "text": [
      "Fitting 3 folds for each of 8 candidates, totalling 24 fits\n",
      "[CV] max_depth=10, max_features=85, min_samples_leaf=10, n_estimators=5000 \n",
      "[CV]  max_depth=10, max_features=85, min_samples_leaf=10, n_estimators=5000, score=-559217362.8234066, total=  19.2s\n",
      "[CV] max_depth=10, max_features=85, min_samples_leaf=10, n_estimators=5000 \n"
     ]
    },
    {
     "name": "stderr",
     "output_type": "stream",
     "text": [
      "[Parallel(n_jobs=1)]: Done   1 out of   1 | elapsed:   19.4s remaining:    0.0s\n"
     ]
    },
    {
     "name": "stdout",
     "output_type": "stream",
     "text": [
      "[CV]  max_depth=10, max_features=85, min_samples_leaf=10, n_estimators=5000, score=-593857697.7366227, total=  19.1s\n",
      "[CV] max_depth=10, max_features=85, min_samples_leaf=10, n_estimators=5000 \n"
     ]
    },
    {
     "name": "stderr",
     "output_type": "stream",
     "text": [
      "[Parallel(n_jobs=1)]: Done   2 out of   2 | elapsed:   38.8s remaining:    0.0s\n"
     ]
    },
    {
     "name": "stdout",
     "output_type": "stream",
     "text": [
      "[CV]  max_depth=10, max_features=85, min_samples_leaf=10, n_estimators=5000, score=-477586414.5417582, total=  18.3s\n",
      "[CV] max_depth=10, max_features=85, min_samples_leaf=15, n_estimators=5000 \n"
     ]
    },
    {
     "name": "stderr",
     "output_type": "stream",
     "text": [
      "[Parallel(n_jobs=1)]: Done   3 out of   3 | elapsed:   57.3s remaining:    0.0s\n"
     ]
    },
    {
     "name": "stdout",
     "output_type": "stream",
     "text": [
      "[CV]  max_depth=10, max_features=85, min_samples_leaf=15, n_estimators=5000, score=-551266426.139167, total=  24.5s\n",
      "[CV] max_depth=10, max_features=85, min_samples_leaf=15, n_estimators=5000 \n"
     ]
    },
    {
     "name": "stderr",
     "output_type": "stream",
     "text": [
      "[Parallel(n_jobs=1)]: Done   4 out of   4 | elapsed:  1.4min remaining:    0.0s\n"
     ]
    },
    {
     "name": "stdout",
     "output_type": "stream",
     "text": [
      "[CV]  max_depth=10, max_features=85, min_samples_leaf=15, n_estimators=5000, score=-611795405.3389885, total=  26.4s\n",
      "[CV] max_depth=10, max_features=85, min_samples_leaf=15, n_estimators=5000 \n",
      "[CV]  max_depth=10, max_features=85, min_samples_leaf=15, n_estimators=5000, score=-504355931.431161, total=  25.6s\n",
      "[CV] max_depth=10, max_features=95, min_samples_leaf=10, n_estimators=5000 \n",
      "[CV]  max_depth=10, max_features=95, min_samples_leaf=10, n_estimators=5000, score=-596806242.5600387, total=  21.2s\n",
      "[CV] max_depth=10, max_features=95, min_samples_leaf=10, n_estimators=5000 \n",
      "[CV]  max_depth=10, max_features=95, min_samples_leaf=10, n_estimators=5000, score=-664768060.5768896, total=  19.4s\n",
      "[CV] max_depth=10, max_features=95, min_samples_leaf=10, n_estimators=5000 \n",
      "[CV]  max_depth=10, max_features=95, min_samples_leaf=10, n_estimators=5000, score=-514930491.6973067, total=  19.6s\n",
      "[CV] max_depth=10, max_features=95, min_samples_leaf=15, n_estimators=5000 \n",
      "[CV]  max_depth=10, max_features=95, min_samples_leaf=15, n_estimators=5000, score=-548897080.257222, total=  29.9s\n",
      "[CV] max_depth=10, max_features=95, min_samples_leaf=15, n_estimators=5000 \n",
      "[CV]  max_depth=10, max_features=95, min_samples_leaf=15, n_estimators=5000, score=-614668891.8804818, total=  27.8s\n",
      "[CV] max_depth=10, max_features=95, min_samples_leaf=15, n_estimators=5000 \n",
      "[CV]  max_depth=10, max_features=95, min_samples_leaf=15, n_estimators=5000, score=-483931765.05015254, total=  27.5s\n",
      "[CV] max_depth=15, max_features=85, min_samples_leaf=10, n_estimators=5000 \n",
      "[CV]  max_depth=15, max_features=85, min_samples_leaf=10, n_estimators=5000, score=-590717618.6400465, total=  22.6s\n",
      "[CV] max_depth=15, max_features=85, min_samples_leaf=10, n_estimators=5000 \n",
      "[CV]  max_depth=15, max_features=85, min_samples_leaf=10, n_estimators=5000, score=-615154130.3804715, total=  22.4s\n",
      "[CV] max_depth=15, max_features=85, min_samples_leaf=10, n_estimators=5000 \n",
      "[CV]  max_depth=15, max_features=85, min_samples_leaf=10, n_estimators=5000, score=-522295445.56919074, total=  21.7s\n",
      "[CV] max_depth=15, max_features=85, min_samples_leaf=15, n_estimators=5000 \n",
      "[CV]  max_depth=15, max_features=85, min_samples_leaf=15, n_estimators=5000, score=-545701972.6539825, total=  29.3s\n",
      "[CV] max_depth=15, max_features=85, min_samples_leaf=15, n_estimators=5000 \n",
      "[CV]  max_depth=15, max_features=85, min_samples_leaf=15, n_estimators=5000, score=-606791768.4463499, total=  32.6s\n",
      "[CV] max_depth=15, max_features=85, min_samples_leaf=15, n_estimators=5000 \n",
      "[CV]  max_depth=15, max_features=85, min_samples_leaf=15, n_estimators=5000, score=-534595691.108195, total=  30.6s\n",
      "[CV] max_depth=15, max_features=95, min_samples_leaf=10, n_estimators=5000 \n",
      "[CV]  max_depth=15, max_features=95, min_samples_leaf=10, n_estimators=5000, score=-575049826.871863, total=  22.3s\n",
      "[CV] max_depth=15, max_features=95, min_samples_leaf=10, n_estimators=5000 \n",
      "[CV]  max_depth=15, max_features=95, min_samples_leaf=10, n_estimators=5000, score=-661388697.1781377, total=  24.6s\n",
      "[CV] max_depth=15, max_features=95, min_samples_leaf=10, n_estimators=5000 \n",
      "[CV]  max_depth=15, max_features=95, min_samples_leaf=10, n_estimators=5000, score=-506590322.23842764, total=  24.5s\n",
      "[CV] max_depth=15, max_features=95, min_samples_leaf=15, n_estimators=5000 \n",
      "[CV]  max_depth=15, max_features=95, min_samples_leaf=15, n_estimators=5000, score=-541296776.3997213, total=  30.1s\n",
      "[CV] max_depth=15, max_features=95, min_samples_leaf=15, n_estimators=5000 \n",
      "[CV]  max_depth=15, max_features=95, min_samples_leaf=15, n_estimators=5000, score=-591302327.8268976, total=  35.4s\n",
      "[CV] max_depth=15, max_features=95, min_samples_leaf=15, n_estimators=5000 \n",
      "[CV]  max_depth=15, max_features=95, min_samples_leaf=15, n_estimators=5000, score=-494439302.524751, total=  33.1s\n"
     ]
    },
    {
     "name": "stderr",
     "output_type": "stream",
     "text": [
      "[Parallel(n_jobs=1)]: Done  24 out of  24 | elapsed: 10.2min finished\n"
     ]
    },
    {
     "data": {
      "text/plain": [
       "GridSearchCV(cv=3, error_score='raise',\n",
       "       estimator=GradientBoostingRegressor(alpha=0.9, criterion='friedman_mse', init=None,\n",
       "             learning_rate=0.1, loss='ls', max_depth=3, max_features=None,\n",
       "             max_leaf_nodes=None, min_impurity_decrease=0.0,\n",
       "             min_impurity_split=None, min_samples_leaf=1,\n",
       "             min_samples_split=2, min_weight_fraction_leaf=0.0,\n",
       "             n_estimators=100, presort='auto', random_state=0,\n",
       "             subsample=1.0, verbose=0, warm_start=False),\n",
       "       fit_params=None, iid=True, n_jobs=1,\n",
       "       param_grid=[{'n_estimators': [5000], 'max_depth': [10, 15], 'min_samples_leaf': [10, 15], 'max_features': (85, 95)}],\n",
       "       pre_dispatch='2*n_jobs', refit=True, return_train_score=True,\n",
       "       scoring='neg_mean_squared_error', verbose=5)"
      ]
     },
     "execution_count": 103,
     "metadata": {},
     "output_type": "execute_result"
    }
   ],
   "source": [
    "from sklearn.model_selection import GridSearchCV\n",
    "grid_param = [{'n_estimators': [5000], 'max_depth': [10,15], 'min_samples_leaf': [10,15], \n",
    "              'max_features': (85, 95)}]\n",
    "\n",
    "model = GradientBoostingRegressor(random_state=0) \n",
    "para_search = GridSearchCV(model, grid_param, scoring='neg_mean_squared_error', cv=3, return_train_score=True, verbose=5)\n",
    "\n",
    "para_search.fit(X_train,Y_train)"
   ]
  },
  {
   "cell_type": "code",
   "execution_count": 104,
   "metadata": {},
   "outputs": [
    {
     "name": "stdout",
     "output_type": "stream",
     "text": [
      "-542379152.0090547\n",
      "{'max_depth': 15, 'max_features': 95, 'min_samples_leaf': 15, 'n_estimators': 5000}\n"
     ]
    }
   ],
   "source": [
    "print(para_search.best_score_)\n",
    "print(para_search.best_params_)"
   ]
  },
  {
   "cell_type": "code",
   "execution_count": 105,
   "metadata": {},
   "outputs": [
    {
     "data": {
      "text/plain": [
       "GradientBoostingRegressor(alpha=0.9, criterion='mse', init=None,\n",
       "             learning_rate=0.1, loss='ls', max_depth=15, max_features=95,\n",
       "             max_leaf_nodes=None, min_impurity_decrease=0.0,\n",
       "             min_impurity_split=None, min_samples_leaf=15,\n",
       "             min_samples_split=2, min_weight_fraction_leaf=0.0,\n",
       "             n_estimators=5000, presort='auto', random_state=0,\n",
       "             subsample=1.0, verbose=0, warm_start=False)"
      ]
     },
     "execution_count": 105,
     "metadata": {},
     "output_type": "execute_result"
    }
   ],
   "source": [
    "from sklearn.ensemble import GradientBoostingRegressor\n",
    "\n",
    "gb = GradientBoostingRegressor(n_estimators=5000, criterion='mse', max_depth=15, min_samples_leaf = 15, max_features = 95, random_state=0) \n",
    "\n",
    "gb.fit(X_train,Y_train)\n"
   ]
  },
  {
   "cell_type": "code",
   "execution_count": 112,
   "metadata": {},
   "outputs": [
    {
     "name": "stdout",
     "output_type": "stream",
     "text": [
      "MSE: 0.0000\n",
      "[CV]  ................................................................\n",
      "[CV] ....................... , score=0.9038815329244987, total=  32.0s\n",
      "[CV]  ................................................................\n"
     ]
    },
    {
     "name": "stderr",
     "output_type": "stream",
     "text": [
      "[Parallel(n_jobs=1)]: Done   1 out of   1 | elapsed:   32.0s remaining:    0.0s\n"
     ]
    },
    {
     "name": "stdout",
     "output_type": "stream",
     "text": [
      "[CV] ....................... , score=0.8835471924393572, total=  35.9s\n",
      "[CV]  ................................................................\n"
     ]
    },
    {
     "name": "stderr",
     "output_type": "stream",
     "text": [
      "[Parallel(n_jobs=1)]: Done   2 out of   2 | elapsed:  1.1min remaining:    0.0s\n"
     ]
    },
    {
     "name": "stdout",
     "output_type": "stream",
     "text": [
      "[CV] ....................... , score=0.8902206693045557, total=  35.1s\n"
     ]
    },
    {
     "name": "stderr",
     "output_type": "stream",
     "text": [
      "[Parallel(n_jobs=1)]: Done   3 out of   3 | elapsed:  1.7min remaining:    0.0s\n",
      "[Parallel(n_jobs=1)]: Done   3 out of   3 | elapsed:  1.7min finished\n"
     ]
    },
    {
     "data": {
      "text/plain": [
       "array([0.90388153, 0.88354719, 0.89022067])"
      ]
     },
     "execution_count": 112,
     "metadata": {},
     "output_type": "execute_result"
    }
   ],
   "source": [
    "from sklearn.metrics import mean_squared_error\n",
    "mse = mean_squared_error(Y_train, gb.predict(X_train))\n",
    "print(\"MSE: %.4f\" % mse)\n",
    "\n",
    "import numpy as np\n",
    "import sklearn.model_selection as ms\n",
    "\n",
    "#Sanity check\n",
    "scores = ms.cross_val_score(estimator=gb, X=X_train, y=Y_train, cv=3, verbose=10)\n",
    "scores"
   ]
  },
  {
   "cell_type": "code",
   "execution_count": 113,
   "metadata": {},
   "outputs": [
    {
     "data": {
      "text/plain": [
       "2.438250335300731e-09"
      ]
     },
     "execution_count": 113,
     "metadata": {},
     "output_type": "execute_result"
    }
   ],
   "source": [
    "def rmsle(real, predicted):\n",
    "    sum=0.0\n",
    "    for x in range(len(predicted)):\n",
    "        if predicted[x]<0 or real[x]<0: #check for negative values\n",
    "            continue\n",
    "        p = np.log(predicted[x]+1)\n",
    "        r = np.log(real[x]+1)\n",
    "        sum = sum + (p - r)**2\n",
    "    return (sum/len(predicted))**0.5\n",
    "\n",
    "rmsle(Y_train, gb.predict(X_train))"
   ]
  },
  {
   "cell_type": "code",
   "execution_count": 108,
   "metadata": {},
   "outputs": [],
   "source": [
    "pred = np.round(gb.predict(X_test),2)"
   ]
  },
  {
   "cell_type": "code",
   "execution_count": 111,
   "metadata": {},
   "outputs": [],
   "source": [
    "test['SalePrice'] = pred\n",
    "test.loc[:, ['Id', 'SalePrice']].to_csv('Pred.csv', index=False, header=True)"
   ]
  }
 ],
 "metadata": {
  "kernelspec": {
   "display_name": "Python 3",
   "language": "python",
   "name": "python3"
  },
  "language_info": {
   "codemirror_mode": {
    "name": "ipython",
    "version": 3
   },
   "file_extension": ".py",
   "mimetype": "text/x-python",
   "name": "python",
   "nbconvert_exporter": "python",
   "pygments_lexer": "ipython3",
   "version": "3.6.4"
  }
 },
 "nbformat": 4,
 "nbformat_minor": 2
}
