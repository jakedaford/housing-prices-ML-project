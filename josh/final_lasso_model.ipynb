{
 "cells": [
  {
   "cell_type": "code",
   "execution_count": 38,
   "metadata": {
    "ExecuteTime": {
     "end_time": "2018-05-31T13:17:08.551719Z",
     "start_time": "2018-05-31T13:17:08.539038Z"
    }
   },
   "outputs": [],
   "source": [
    "import pandas as pd\n",
    "import numpy as np\n",
    "import matplotlib.pyplot as plt\n",
    "from scipy.stats import skew\n",
    "\n",
    "%matplotlib inline\n",
    "plt.rcParams['figure.figsize'] = (12.0, 8.0)"
   ]
  },
  {
   "cell_type": "code",
   "execution_count": 39,
   "metadata": {
    "ExecuteTime": {
     "end_time": "2018-05-31T13:17:09.269550Z",
     "start_time": "2018-05-31T13:17:09.219188Z"
    }
   },
   "outputs": [],
   "source": [
    "train = pd.read_csv('../data/train.csv')\n",
    "test = pd.read_csv('../data/test.csv')"
   ]
  },
  {
   "cell_type": "code",
   "execution_count": 40,
   "metadata": {
    "ExecuteTime": {
     "end_time": "2018-05-31T13:17:09.865073Z",
     "start_time": "2018-05-31T13:17:09.843645Z"
    }
   },
   "outputs": [],
   "source": [
    "# combining the train and test dataset, without the 'SalePrice' and 'Id' columns now\n",
    "# so as to not interfere when separating for X_train, X_test, and y\n",
    "\n",
    "all_data = pd.concat((train.loc[:,'MSSubClass':'SaleCondition'],\n",
    "                      test.loc[:,'MSSubClass':'SaleCondition']))"
   ]
  },
  {
   "cell_type": "markdown",
   "metadata": {},
   "source": [
    "Looking at the distrbution of the SalePrice, and a ln(x+1) transformation on SalePrice.\n",
    "\n",
    "- ln(x+1) is used just in case there are any discontinuities or any values at 0, it will not break the code."
   ]
  },
  {
   "cell_type": "code",
   "execution_count": 41,
   "metadata": {
    "ExecuteTime": {
     "end_time": "2018-05-31T13:17:11.045407Z",
     "start_time": "2018-05-31T13:17:10.655698Z"
    }
   },
   "outputs": [
    {
     "data": {
      "image/png": "[encoded data removed]",
      "text/plain": [
       "<Figure size 864x576 with 2 Axes>"
      ]
     },
     "metadata": {},
     "output_type": "display_data"
    }
   ],
   "source": [
    "prices = pd.DataFrame({\"Original Prices\":train[\"SalePrice\"],\n",
    "                       \"Log Transform Prices\":np.log1p(train[\"SalePrice\"])})\n",
    "\n",
    "prices.hist()\n",
    "plt.show()"
   ]
  },
  {
   "cell_type": "code",
   "execution_count": 42,
   "metadata": {
    "ExecuteTime": {
     "end_time": "2018-05-31T13:17:13.852557Z",
     "start_time": "2018-05-31T13:17:13.847974Z"
    }
   },
   "outputs": [
    {
     "name": "stdout",
     "output_type": "stream",
     "text": [
      "The skewness value for regular SalePrice is: 1.880940746034036\n"
     ]
    }
   ],
   "source": [
    "print('The skewness value for regular SalePrice is: ' + str(skew(train['SalePrice'])))"
   ]
  },
  {
   "cell_type": "code",
   "execution_count": 43,
   "metadata": {
    "ExecuteTime": {
     "end_time": "2018-05-31T13:17:14.345478Z",
     "start_time": "2018-05-31T13:17:14.339550Z"
    }
   },
   "outputs": [
    {
     "name": "stdout",
     "output_type": "stream",
     "text": [
      "The skewness value for the transformed SalePrice is: 0.12122191311528359\n"
     ]
    }
   ],
   "source": [
    "# transforming the saleprice variable\n",
    "train[\"SalePrice\"] = np.log1p(train[\"SalePrice\"])\n",
    "\n",
    "# the new skewness value\n",
    "print('The skewness value for the transformed SalePrice is: ' + str(skew(train['SalePrice'])))"
   ]
  },
  {
   "cell_type": "code",
   "execution_count": 44,
   "metadata": {
    "ExecuteTime": {
     "end_time": "2018-05-31T13:17:14.809460Z",
     "start_time": "2018-05-31T13:17:14.793290Z"
    }
   },
   "outputs": [
    {
     "data": {
      "text/plain": [
       "LotFrontage     486\n",
       "GarageYrBlt     159\n",
       "MasVnrArea       23\n",
       "BsmtHalfBath      2\n",
       "BsmtFullBath      2\n",
       "GarageArea        1\n",
       "BsmtFinSF1        1\n",
       "BsmtFinSF2        1\n",
       "BsmtUnfSF         1\n",
       "TotalBsmtSF       1\n",
       "GarageCars        1\n",
       "OverallCond       0\n",
       "YearBuilt         0\n",
       "YearRemodAdd      0\n",
       "OverallQual       0\n",
       "dtype: int64"
      ]
     },
     "execution_count": 44,
     "metadata": {},
     "output_type": "execute_result"
    }
   ],
   "source": [
    "num_feats = all_data.dtypes[all_data.dtypes != 'object'].index\n",
    "all_data[num_feats].isna().sum().sort_values(ascending=False).head(15)"
   ]
  },
  {
   "cell_type": "markdown",
   "metadata": {},
   "source": [
    "Since it doesn't make sense to impute the `LotFrontage` or `GarageYrBlt` with a value of 0, we can either impute it with the mean or median of that column. Or use KNN (probably the best solution). \n",
    "\n",
    "Doing the safe route for now, by imputing the missing values with the median of the column."
   ]
  },
  {
   "cell_type": "code",
   "execution_count": 45,
   "metadata": {
    "ExecuteTime": {
     "end_time": "2018-05-31T13:17:15.791681Z",
     "start_time": "2018-05-31T13:17:15.785518Z"
    }
   },
   "outputs": [],
   "source": [
    "all_data.LotFrontage = all_data.LotFrontage.fillna(all_data.LotFrontage.median())\n",
    "all_data.GarageYrBlt = all_data.GarageYrBlt.fillna(all_data.GarageYrBlt.median())"
   ]
  },
  {
   "cell_type": "markdown",
   "metadata": {},
   "source": [
    "Filling in the rest of the missing variables (mostly categorical at this point) with 0."
   ]
  },
  {
   "cell_type": "code",
   "execution_count": 46,
   "metadata": {
    "ExecuteTime": {
     "end_time": "2018-05-31T13:17:17.276261Z",
     "start_time": "2018-05-31T13:17:17.257324Z"
    }
   },
   "outputs": [],
   "source": [
    "all_data = all_data.fillna(0)"
   ]
  },
  {
   "cell_type": "markdown",
   "metadata": {},
   "source": [
    "Applying the log transform to all the features that have a skewness value above 0.75:"
   ]
  },
  {
   "cell_type": "code",
   "execution_count": 47,
   "metadata": {
    "ExecuteTime": {
     "end_time": "2018-05-31T13:17:18.609927Z",
     "start_time": "2018-05-31T13:17:18.109465Z"
    }
   },
   "outputs": [
    {
     "data": {
      "image/png": "[encoded data removed]",
      "text/plain": [
       "<Figure size 864x576 with 1 Axes>"
      ]
     },
     "metadata": {},
     "output_type": "display_data"
    }
   ],
   "source": [
    "skewed_feat_vals = train[num_feats].apply(lambda x: skew(x.dropna()))\n",
    "skewed_feat_vals = skewed_feat_vals.sort_values(ascending=False)\n",
    "\n",
    "skewed_feat_vals.plot(kind = \"barh\")\n",
    "plt.title(\"Skewness of the Continuous Numerical Features in the Data\")\n",
    "plt.show()"
   ]
  },
  {
   "cell_type": "markdown",
   "metadata": {},
   "source": [
    "Log transforming any features that have a skewness of above 0.75:"
   ]
  },
  {
   "cell_type": "code",
   "execution_count": 49,
   "metadata": {
    "ExecuteTime": {
     "end_time": "2018-05-31T13:19:08.199479Z",
     "start_time": "2018-05-31T13:19:08.185130Z"
    }
   },
   "outputs": [],
   "source": [
    "skewed_feats = skewed_feat_vals[skewed_feat_vals > 0.75]\n",
    "skewed_feats = skewed_feats.index\n",
    "\n",
    "all_data[skewed_feats] = np.log1p(all_data[skewed_feats])"
   ]
  },
  {
   "cell_type": "markdown",
   "metadata": {},
   "source": [
    "Transforming any categorical columns with strings into dummy columns (so it is either 0 or 1 depending on what category the observation falls into). "
   ]
  },
  {
   "cell_type": "code",
   "execution_count": 51,
   "metadata": {
    "ExecuteTime": {
     "end_time": "2018-05-31T13:20:02.381701Z",
     "start_time": "2018-05-31T13:20:02.366406Z"
    }
   },
   "outputs": [
    {
     "name": "stdout",
     "output_type": "stream",
     "text": [
      "Dimensions of the final dataset: (2919, 268)\n"
     ]
    }
   ],
   "source": [
    "all_data = pd.get_dummies(all_data, drop_first=True)\n",
    "print('Dimensions of the final dataset: ' + str(all_data.shape))"
   ]
  },
  {
   "cell_type": "markdown",
   "metadata": {},
   "source": [
    "Setting the `X_train`, `X_test`, and `y` variables for use with the Lasso Regularization model in sklearn. "
   ]
  },
  {
   "cell_type": "code",
   "execution_count": 52,
   "metadata": {
    "ExecuteTime": {
     "end_time": "2018-05-31T13:20:30.400762Z",
     "start_time": "2018-05-31T13:20:30.395415Z"
    }
   },
   "outputs": [],
   "source": [
    "X_train = all_data[:train.shape[0]]\n",
    "X_test = all_data[train.shape[0]:]\n",
    "y = train.SalePrice"
   ]
  },
  {
   "cell_type": "code",
   "execution_count": 53,
   "metadata": {
    "ExecuteTime": {
     "end_time": "2018-05-31T13:20:52.446870Z",
     "start_time": "2018-05-31T13:20:52.202443Z"
    }
   },
   "outputs": [],
   "source": [
    "from sklearn.linear_model import LassoCV\n",
    "from sklearn.model_selection import cross_val_score\n",
    "\n",
    "# Defining a RMSE function to calculate the residual mean squared error to evaluate the model\n",
    "def rmse_cv(model, X, y):\n",
    "    rmse = np.sqrt(-cross_val_score(model, X, y, scoring=\"neg_mean_squared_error\", cv = 5))\n",
    "    return(rmse)"
   ]
  },
  {
   "cell_type": "code",
   "execution_count": 55,
   "metadata": {
    "ExecuteTime": {
     "end_time": "2018-05-31T13:25:17.229128Z",
     "start_time": "2018-05-31T13:25:16.346325Z"
    }
   },
   "outputs": [
    {
     "name": "stdout",
     "output_type": "stream",
     "text": [
      "Best alpha value: 0.00011377741332214914\n",
      "Corresponding R^2 score: 0.9251423114391033\n"
     ]
    }
   ],
   "source": [
    "alpha_vals = np.logspace(-4, 4, 1000)\n",
    "\n",
    "model_lasso_LOO = LassoCV(alphas = alpha_vals, normalize=True).fit(X_train, y) \n",
    "print(\"Best alpha value: \" + str(model_lasso_LOO.alpha_))\n",
    "print(\"Corresponding R^2 score: \" + str(model_lasso_LOO.score(X_train, y)))"
   ]
  },
  {
   "cell_type": "code",
   "execution_count": 56,
   "metadata": {
    "ExecuteTime": {
     "end_time": "2018-05-31T13:25:44.486760Z",
     "start_time": "2018-05-31T13:25:43.307065Z"
    }
   },
   "outputs": [
    {
     "name": "stdout",
     "output_type": "stream",
     "text": [
      "Best alpha value: 0.00011805165285688056\n",
      "Corresponding R^2 score: 0.9245915437714944\n"
     ]
    }
   ],
   "source": [
    "alpha_vals = np.logspace(-4, 4, 1000)\n",
    "\n",
    "model_lasso_5CV = LassoCV(alphas = alpha_vals, normalize=True, cv=5).fit(X_train, y) \n",
    "print(\"Best alpha value: \" + str(model_lasso_5CV.alpha_))\n",
    "print(\"Corresponding R^2 score: \" + str(model_lasso_5CV.score(X_train, y)))"
   ]
  },
  {
   "cell_type": "code",
   "execution_count": 57,
   "metadata": {
    "ExecuteTime": {
     "end_time": "2018-05-31T13:27:14.665783Z",
     "start_time": "2018-05-31T13:26:56.925939Z"
    }
   },
   "outputs": [
    {
     "name": "stdout",
     "output_type": "stream",
     "text": [
      "Model using LOO CV for training:\n",
      "With 5-fold CV, the RMSE values are: [0.10243    0.13288816 0.13626522 0.11244549 0.14560481]\n",
      "Average RMSE: 0.12592673694633943\n",
      "--------------------------------------------------\n",
      "Model using 5-fold CV for training:\n",
      "With 5-fold CV, the RMSE values are: [0.10266714 0.13279369 0.13595896 0.11224452 0.14571073]\n",
      "Average RMSE: 0.1258750079858471\n"
     ]
    }
   ],
   "source": [
    "print(\"Model using LOO CV for training:\")\n",
    "print(\"With 5-fold CV, the RMSE values are: \" + str(rmse_cv(model_lasso_LOO, X_train, y)))\n",
    "print(\"Average RMSE: \" + str(rmse_cv(model_lasso_LOO, X_train, y).mean()))\n",
    "print(\"-\" * 50)\n",
    "print(\"Model using 5-fold CV for training:\")\n",
    "print(\"With 5-fold CV, the RMSE values are: \" + str(rmse_cv(model_lasso_5CV, X_train, y)))\n",
    "print(\"Average RMSE: \" + str(rmse_cv(model_lasso_5CV, X_train, y).mean()))"
   ]
  },
  {
   "cell_type": "markdown",
   "metadata": {},
   "source": [
    "Looking through the coefficients that were kept/eliminated and which ones were deemed important:"
   ]
  },
  {
   "cell_type": "code",
   "execution_count": 58,
   "metadata": {
    "ExecuteTime": {
     "end_time": "2018-05-31T13:29:21.312524Z",
     "start_time": "2018-05-31T13:29:21.307570Z"
    }
   },
   "outputs": [
    {
     "name": "stdout",
     "output_type": "stream",
     "text": [
      "Variables kept: 92\n",
      "Variables eliminated: 176\n"
     ]
    }
   ],
   "source": [
    "beta_vals = pd.Series(model_lasso_5CV.coef_, index = X_train.columns)\n",
    "\n",
    "print(\"Variables kept: \" + str(sum(beta_vals != 0)))\n",
    "print(\"Variables eliminated: \" + str(sum(beta_vals == 0)))"
   ]
  },
  {
   "cell_type": "code",
   "execution_count": 59,
   "metadata": {
    "ExecuteTime": {
     "end_time": "2018-05-31T13:29:51.360460Z",
     "start_time": "2018-05-31T13:29:51.352188Z"
    }
   },
   "outputs": [
    {
     "name": "stdout",
     "output_type": "stream",
     "text": [
      "Condition2_PosN        -0.451788\n",
      "MSZoning_C (all)       -0.333829\n",
      "PoolQC_Gd              -0.221775\n",
      "Functional_Sev         -0.188207\n",
      "Functional_Maj2        -0.150032\n",
      "KitchenAbvGr           -0.132030\n",
      "Exterior1st_BrkComm    -0.100066\n",
      "Heating_Grav           -0.093415\n",
      "LotShape_IR3           -0.051125\n",
      "Neighborhood_Edwards   -0.048406\n",
      "dtype: float64\n",
      "GarageQual_Ex           0.060534\n",
      "SaleType_New            0.061517\n",
      "Neighborhood_NridgHt    0.070511\n",
      "1stFlrSF                0.073287\n",
      "LotArea                 0.074147\n",
      "Neighborhood_NoRidge    0.082145\n",
      "RoofMatl_WdShngl        0.089308\n",
      "Neighborhood_Crawfor    0.097690\n",
      "Neighborhood_StoneBr    0.099126\n",
      "GrLivArea               0.376539\n",
      "dtype: float64\n"
     ]
    }
   ],
   "source": [
    "print(beta_vals.sort_values().head(10))\n",
    "print(beta_vals.sort_values().tail(10))\n",
    "\n",
    "important_feat = pd.concat([beta_vals.sort_values().head(10), beta_vals.sort_values().tail(10)])"
   ]
  },
  {
   "cell_type": "code",
   "execution_count": 60,
   "metadata": {
    "ExecuteTime": {
     "end_time": "2018-05-31T13:29:55.811646Z",
     "start_time": "2018-05-31T13:29:55.477618Z"
    }
   },
   "outputs": [
    {
     "data": {
      "image/png": "[encoded data removed]",
      "text/plain": [
       "<Figure size 864x576 with 1 Axes>"
      ]
     },
     "metadata": {},
     "output_type": "display_data"
    }
   ],
   "source": [
    "important_feat.plot(kind = \"barh\")\n",
    "plt.title(\"Coefficients in the Lasso Model\")\n",
    "plt.show()"
   ]
  },
  {
   "cell_type": "code",
   "execution_count": 63,
   "metadata": {
    "ExecuteTime": {
     "end_time": "2018-05-31T13:32:39.123910Z",
     "start_time": "2018-05-31T13:32:39.111132Z"
    }
   },
   "outputs": [],
   "source": [
    "pred = np.expm1(model_lasso_5CV.predict(X_test))\n",
    "\n",
    "submission = pd.DataFrame({'Id': test.Id, 'SalePrice': pred})\n",
    "submission.to_csv('attempt_lasso_5cv.csv', index=False)"
   ]
  },
  {
   "cell_type": "code",
   "execution_count": 64,
   "metadata": {
    "ExecuteTime": {
     "end_time": "2018-05-31T13:32:39.639585Z",
     "start_time": "2018-05-31T13:32:39.626095Z"
    }
   },
   "outputs": [],
   "source": [
    "pred = np.expm1(model_lasso_LOO.predict(X_test))\n",
    "\n",
    "submission = pd.DataFrame({'Id': test.Id, 'SalePrice': pred})\n",
    "submission.to_csv('attempt_lasso_LOO.csv', index=False)"
   ]
  },
  {
   "cell_type": "code",
   "execution_count": null,
   "metadata": {},
   "outputs": [],
   "source": []
  }
 ],
 "metadata": {
  "kernelspec": {
   "display_name": "Python 3",
   "language": "python",
   "name": "python3"
  },
  "language_info": {
   "codemirror_mode": {
    "name": "ipython",
    "version": 3
   },
   "file_extension": ".py",
   "mimetype": "text/x-python",
   "name": "python",
   "nbconvert_exporter": "python",
   "pygments_lexer": "ipython3",
   "version": "3.6.5"
  },
  "varInspector": {
   "cols": {
    "lenName": 16,
    "lenType": 16,
    "lenVar": 40
   },
   "kernels_config": {
    "python": {
     "delete_cmd_postfix": "",
     "delete_cmd_prefix": "del ",
     "library": "var_list.py",
     "varRefreshCmd": "print(var_dic_list())"
    },
    "r": {
     "delete_cmd_postfix": ") ",
     "delete_cmd_prefix": "rm(",
     "library": "var_list.r",
     "varRefreshCmd": "cat(var_dic_list()) "
    }
   },
   "types_to_exclude": [
    "module",
    "function",
    "builtin_function_or_method",
    "instance",
    "_Feature"
   ],
   "window_display": false
  }
 },
 "nbformat": 4,
 "nbformat_minor": 2
}
