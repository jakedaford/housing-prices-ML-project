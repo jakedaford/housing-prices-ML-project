{
 "cells": [
  {
   "cell_type": "markdown",
   "metadata": {},
   "source": [
    "## Example to get predicted submissions file for Kaggle\n",
    "\n",
    "The following code guides through importing the `train` and `test` csv files, along with basic feature engineering, to get the final predicted sale values."
   ]
  },
  {
   "cell_type": "code",
   "execution_count": 1,
   "metadata": {
    "ExecuteTime": {
     "end_time": "2018-05-30T20:06:10.208475Z",
     "start_time": "2018-05-30T20:06:10.201141Z"
    }
   },
   "outputs": [],
   "source": [
    "import pandas as pd\n",
    "import numpy as np\n",
    "import matplotlib.pyplot as plt\n",
    "from scipy.stats import skew\n",
    "\n",
    "%matplotlib inline\n",
    "plt.rcParams['figure.figsize'] = (12.0, 6.0)"
   ]
  },
  {
   "cell_type": "code",
   "execution_count": 36,
   "metadata": {
    "ExecuteTime": {
     "end_time": "2018-05-30T20:06:18.375085Z",
     "start_time": "2018-05-30T20:06:18.326199Z"
    }
   },
   "outputs": [],
   "source": [
    "train = pd.read_csv('../data/train.csv')\n",
    "test = pd.read_csv('../data/test.csv')"
   ]
  },
  {
   "cell_type": "code",
   "execution_count": 37,
   "metadata": {
    "ExecuteTime": {
     "end_time": "2018-05-30T20:06:19.067898Z",
     "start_time": "2018-05-30T20:06:19.048544Z"
    }
   },
   "outputs": [],
   "source": [
    "# combining the train and test dataset, without the 'SalePrice' and 'Id' columns now\n",
    "# so as to not interfere when separating for X_train, X_test, and y\n",
    "\n",
    "all_data = pd.concat((train.loc[:,'MSSubClass':'SaleCondition'],\n",
    "                      test.loc[:,'MSSubClass':'SaleCondition']))"
   ]
  },
  {
   "cell_type": "code",
   "execution_count": 38,
   "metadata": {},
   "outputs": [
    {
     "data": {
      "text/plain": [
       "{0, 1, 2, 3}"
      ]
     },
     "execution_count": 38,
     "metadata": {},
     "output_type": "execute_result"
    }
   ],
   "source": [
    "set(list(all_data.KitchenAbvGr))"
   ]
  },
  {
   "cell_type": "code",
   "execution_count": 23,
   "metadata": {
    "ExecuteTime": {
     "end_time": "2018-05-30T20:06:19.714976Z",
     "start_time": "2018-05-30T20:06:19.712276Z"
    }
   },
   "outputs": [],
   "source": [
    "#train = train[train.GrLivArea < 4000] # for some reason this destroys the accuracy"
   ]
  },
  {
   "cell_type": "markdown",
   "metadata": {},
   "source": [
    "Looking at the distrbution of the SalePrice, and a ln(x+1) transformation on SalePrice.\n",
    "\n",
    "- ln(x+1) is used just in case there are any discontinuities or any values at 0, it will not break the code."
   ]
  },
  {
   "cell_type": "code",
   "execution_count": 24,
   "metadata": {
    "ExecuteTime": {
     "end_time": "2018-05-30T20:06:21.460891Z",
     "start_time": "2018-05-30T20:06:21.139158Z"
    },
    "scrolled": true
   },
   "outputs": [
    {
     "data": {
      "image/png": "[encoded data removed]",
      "text/plain": [
       "<matplotlib.figure.Figure at 0x1143a12b0>"
      ]
     },
     "metadata": {},
     "output_type": "display_data"
    }
   ],
   "source": [
    "prices = pd.DataFrame({\"Original Prices\":train[\"SalePrice\"],\n",
    "                       \"Log Transform Prices\":np.log1p(train[\"SalePrice\"])})\n",
    "\n",
    "prices.hist()\n",
    "plt.show()"
   ]
  },
  {
   "cell_type": "markdown",
   "metadata": {},
   "source": [
    "As we can see the, the log-transform distribution looks much better than the right-skewed original SalePrice distribution."
   ]
  },
  {
   "cell_type": "code",
   "execution_count": 25,
   "metadata": {
    "ExecuteTime": {
     "end_time": "2018-05-30T20:06:23.312607Z",
     "start_time": "2018-05-30T20:06:23.307657Z"
    }
   },
   "outputs": [
    {
     "name": "stdout",
     "output_type": "stream",
     "text": [
      "The skewness value for regular SalePrice is: 1.880940746034036\n"
     ]
    }
   ],
   "source": [
    "print('The skewness value for regular SalePrice is: ' + str(skew(train['SalePrice'])))"
   ]
  },
  {
   "cell_type": "code",
   "execution_count": 26,
   "metadata": {
    "ExecuteTime": {
     "end_time": "2018-05-30T20:06:24.504092Z",
     "start_time": "2018-05-30T20:06:24.496908Z"
    }
   },
   "outputs": [
    {
     "name": "stdout",
     "output_type": "stream",
     "text": [
      "The skewness value for the transformed SalePrice is: 0.12122191311528359\n"
     ]
    }
   ],
   "source": [
    "# transforming the target variable\n",
    "train[\"SalePrice\"] = np.log1p(train[\"SalePrice\"])\n",
    "\n",
    "# the new skewness value\n",
    "print('The skewness value for the transformed SalePrice is: ' + str(skew(train['SalePrice'])))"
   ]
  },
  {
   "cell_type": "markdown",
   "metadata": {},
   "source": [
    "Applying this log transform to all the features that have a skewness value above 0.75:"
   ]
  },
  {
   "cell_type": "code",
   "execution_count": 27,
   "metadata": {
    "ExecuteTime": {
     "end_time": "2018-05-30T20:06:28.371253Z",
     "start_time": "2018-05-30T20:06:28.319438Z"
    }
   },
   "outputs": [],
   "source": [
    "# taking only numeric continuous features\n",
    "numeric_feats = all_data.dtypes[all_data.dtypes != \"object\"].index\n",
    "\n",
    "skewed_feats = train[numeric_feats].apply(lambda x: skew(x.dropna()))\n",
    "skewed_feats = skewed_feats[skewed_feats > 0.75]\n",
    "skewed_feats = skewed_feats.index\n",
    "\n",
    "all_data[skewed_feats] = np.log1p(all_data[skewed_feats])"
   ]
  },
  {
   "cell_type": "markdown",
   "metadata": {},
   "source": [
    "Transforming any categorical columns with strings into dummy columns (so it is either 0 or 1 depending on what category the observation falls into). "
   ]
  },
  {
   "cell_type": "code",
   "execution_count": 10,
   "metadata": {
    "ExecuteTime": {
     "end_time": "2018-05-30T20:06:33.668830Z",
     "start_time": "2018-05-30T20:06:33.616296Z"
    }
   },
   "outputs": [],
   "source": [
    "all_data = pd.get_dummies(all_data, drop_first=True)"
   ]
  },
  {
   "cell_type": "code",
   "execution_count": 20,
   "metadata": {},
   "outputs": [
    {
     "data": {
      "text/plain": [
       "(2919, 245)"
      ]
     },
     "execution_count": 20,
     "metadata": {},
     "output_type": "execute_result"
    }
   ],
   "source": [
    "all_data.shape"
   ]
  },
  {
   "cell_type": "markdown",
   "metadata": {},
   "source": [
    "Imputing any missing values, of which there are a decent amount:"
   ]
  },
  {
   "cell_type": "code",
   "execution_count": 34,
   "metadata": {},
   "outputs": [
    {
     "data": {
      "text/plain": [
       "{0.0, 0.6931471805599453, 1.0986122886681098, 1.3862943611198906}"
      ]
     },
     "execution_count": 34,
     "metadata": {},
     "output_type": "execute_result"
    }
   ],
   "source": [
    "set(list(all_data.KitchenAbvGr))"
   ]
  },
  {
   "cell_type": "code",
   "execution_count": 35,
   "metadata": {
    "ExecuteTime": {
     "end_time": "2018-05-30T20:06:35.166490Z",
     "start_time": "2018-05-30T20:06:35.129963Z"
    },
    "scrolled": false
   },
   "outputs": [
    {
     "data": {
      "text/plain": [
       "PoolQC          2909\n",
       "MiscFeature     2814\n",
       "Alley           2721\n",
       "Fence           2348\n",
       "FireplaceQu     1420\n",
       "LotFrontage      486\n",
       "GarageCond       159\n",
       "GarageQual       159\n",
       "GarageYrBlt      159\n",
       "GarageFinish     159\n",
       "dtype: int64"
      ]
     },
     "execution_count": 35,
     "metadata": {},
     "output_type": "execute_result"
    }
   ],
   "source": [
    "all_data.isna().sum().sort_values(ascending=False).head(10)"
   ]
  },
  {
   "cell_type": "markdown",
   "metadata": {},
   "source": [
    "Since it doesn't make sense to impute the `LotFrontage` with a value of 0, we can either impute it with the mean or median of that column. Or use KNN (probably the best solution). \n",
    "\n",
    "Doing the safe route for now, by imputing the missing values with the median of the column."
   ]
  },
  {
   "cell_type": "code",
   "execution_count": 33,
   "metadata": {},
   "outputs": [
    {
     "data": {
      "text/plain": [
       "{0.0,\n",
       " nan,\n",
       " 0.6931471805599453,\n",
       " 2.833213344056216,\n",
       " 3.6635616461296463,\n",
       " 3.713572066704308,\n",
       " 3.7376696182833684,\n",
       " 3.871201010907891,\n",
       " 4.248495242049359,\n",
       " 4.2626798770413155,\n",
       " 4.394449154672439,\n",
       " 4.418840607796598,\n",
       " 4.442651256490317,\n",
       " 4.477336814478207,\n",
       " 4.584967478670572,\n",
       " 4.59511985013459,\n",
       " 4.709530201312334,\n",
       " 4.7535901911063645,\n",
       " 4.787491742782046,\n",
       " 4.804021044733257,\n",
       " 4.812184355372417,\n",
       " 4.820281565605037,\n",
       " 4.8283137373023015,\n",
       " 4.844187086458591,\n",
       " 4.859812404361672,\n",
       " 4.875197323201151,\n",
       " 4.890349128221754,\n",
       " 4.955827057601261,\n",
       " 5.087596335232384,\n",
       " 5.093750200806762,\n",
       " 5.111987788356544,\n",
       " 5.135798437050262,\n",
       " 5.153291594497779,\n",
       " 5.198497031265826,\n",
       " 5.220355825078324,\n",
       " 5.231108616854587,\n",
       " 5.247024072160486,\n",
       " 5.262690188904886,\n",
       " 5.2832037287379885,\n",
       " 5.288267030694535,\n",
       " 5.303304908059076,\n",
       " 5.327876168789581,\n",
       " 5.337538079701318,\n",
       " 5.375278407684165,\n",
       " 5.389071729816501,\n",
       " 5.4116460518550396,\n",
       " 5.424950017481403,\n",
       " 5.459585514144159,\n",
       " 5.484796933490655,\n",
       " 5.497168225293202,\n",
       " 5.5053315359323625,\n",
       " 5.5093883366279774,\n",
       " 5.5134287461649825,\n",
       " 5.5254529391317835,\n",
       " 5.552959584921617,\n",
       " 5.572154032177765,\n",
       " 5.575949103146316,\n",
       " 5.583496308781699,\n",
       " 5.60947179518496,\n",
       " 5.616771097666572,\n",
       " 5.6240175061873385,\n",
       " 5.634789603169249,\n",
       " 5.659482215759621,\n",
       " 5.697093486505405,\n",
       " 5.700443573390687,\n",
       " 5.723585101952381,\n",
       " 5.746203190540153,\n",
       " 5.780743515792329,\n",
       " 5.783825182329737,\n",
       " 5.8377304471659395,\n",
       " 5.84354441703136,\n",
       " 5.855071922202427,\n",
       " 5.860786223465865,\n",
       " 5.8916442118257715,\n",
       " 5.916202062607435,\n",
       " 5.918893854273146,\n",
       " 5.978885764901122,\n",
       " 6.013715156042802,\n",
       " 6.042632833682381,\n",
       " 6.054439346269371,\n",
       " 6.066108090103747,\n",
       " 6.07073772800249,\n",
       " 6.077642243349034,\n",
       " 6.124683390894205,\n",
       " 6.131226489483141,\n",
       " 6.1463292576688975,\n",
       " 6.175867270105761,\n",
       " 6.2166061010848646,\n",
       " 6.218600119691729,\n",
       " 6.234410725718371,\n",
       " 6.246106765481563,\n",
       " 6.251903883165888,\n",
       " 6.259581464064923,\n",
       " 6.267200548541362,\n",
       " 6.311734809152915,\n",
       " 6.336825731146441,\n",
       " 6.349138991379798,\n",
       " 6.38856140554563,\n",
       " 6.424869023905388,\n",
       " 6.46302945692067,\n",
       " 6.483107351457199,\n",
       " 6.493753839851686,\n",
       " 6.4967749901858625,\n",
       " 6.541029999189903,\n",
       " 6.559615237493242,\n",
       " 6.586171654854675,\n",
       " 6.595780513961311,\n",
       " 6.805722553416985,\n",
       " 6.957497370876951,\n",
       " 7.017506142941256,\n",
       " nan,\n",
       " nan,\n",
       " nan,\n",
       " nan,\n",
       " nan,\n",
       " nan,\n",
       " nan,\n",
       " nan,\n",
       " 6.642486801367256,\n",
       " 6.826545223556594,\n",
       " nan,\n",
       " 5.579729825986222,\n",
       " nan,\n",
       " nan,\n",
       " nan,\n",
       " 3.970291913552122,\n",
       " 3.9889840465642745,\n",
       " 4.189654742026425,\n",
       " 4.290459441148391,\n",
       " 4.406719247264253,\n",
       " 4.454347296253507,\n",
       " 4.553876891600541,\n",
       " 4.653960350157523,\n",
       " 4.6913478822291435,\n",
       " 4.74493212836325,\n",
       " 4.983606621708336,\n",
       " 5.099866427824199,\n",
       " 5.147494476813453,\n",
       " 5.293304824724492,\n",
       " 5.313205979041787,\n",
       " 5.3471075307174685,\n",
       " 5.37989735354046,\n",
       " 5.384495062789089,\n",
       " 5.3981627015177525,\n",
       " 5.43372200355424,\n",
       " 5.438079308923196,\n",
       " 5.517452896464707,\n",
       " 5.602118820879701,\n",
       " 5.648974238161206,\n",
       " 5.652489180268651,\n",
       " 5.680172609017068,\n",
       " 5.68697535633982,\n",
       " 5.793013608384144,\n",
       " 5.808142489980444,\n",
       " 5.820082930352362,\n",
       " 5.942799375126701,\n",
       " 5.971261839790462,\n",
       " 5.986452005284438,\n",
       " 6.0063531596017325,\n",
       " 6.008813185442595,\n",
       " 6.056784013228625,\n",
       " 6.09807428216624,\n",
       " 6.150602768446279,\n",
       " 6.173786103901937,\n",
       " 6.198478716492308,\n",
       " 6.206575926724928,\n",
       " 6.295266001439646,\n",
       " 6.342121418721152,\n",
       " 6.473890696352274,\n",
       " 6.478509642208569,\n",
       " 6.513230110912307,\n",
       " 6.51471269087253,\n",
       " 6.594413459749778,\n",
       " 6.670766320845874,\n",
       " 6.680854678790215,\n",
       " 6.796823718274855,\n",
       " 6.883462586413092,\n",
       " 6.939253946041508,\n",
       " 7.029972911706386,\n",
       " 7.3783837129967145,\n",
       " nan,\n",
       " nan,\n",
       " nan,\n",
       " nan,\n",
       " nan,\n",
       " nan,\n",
       " nan,\n",
       " nan,\n",
       " 1.3862943611198906,\n",
       " 2.4849066497880004,\n",
       " 2.70805020110221,\n",
       " 2.9444389791664403,\n",
       " 3.044522437723423,\n",
       " 3.1354942159291497,\n",
       " 3.1780538303479458,\n",
       " 3.2188758248682006,\n",
       " 3.332204510175204,\n",
       " 3.367295829986474,\n",
       " 3.4339872044851463,\n",
       " 3.4657359027997265,\n",
       " 3.4965075614664802,\n",
       " 3.5553480614894135,\n",
       " 3.6109179126442243,\n",
       " 3.6888794541139363,\n",
       " 3.7612001156935624,\n",
       " 3.8066624897703196,\n",
       " 3.828641396489095,\n",
       " 3.8501476017100584,\n",
       " 3.8918202981106265,\n",
       " 3.9318256327243257,\n",
       " 3.9512437185814275,\n",
       " 4.007333185232471,\n",
       " 4.04305126783455,\n",
       " 4.060443010546419,\n",
       " 4.07753744390572,\n",
       " 4.110873864173311,\n",
       " 4.143134726391533,\n",
       " 4.1588830833596715,\n",
       " 4.174387269895637,\n",
       " 4.204692619390966,\n",
       " 4.219507705176107,\n",
       " 4.23410650459726,\n",
       " 4.31748811353631,\n",
       " 4.330733340286331,\n",
       " 4.343805421853684,\n",
       " 4.465908118654584,\n",
       " 4.48863636973214,\n",
       " 4.499809670330265,\n",
       " 4.51085950651685,\n",
       " 4.5217885770490405,\n",
       " 4.532599493153256,\n",
       " 4.564348191467836,\n",
       " 4.574710978503383,\n",
       " 4.605170185988092,\n",
       " 4.61512051684126,\n",
       " 4.624972813284271,\n",
       " 4.634728988229636,\n",
       " 4.663439094112067,\n",
       " 4.672828834461906,\n",
       " 4.700480365792417,\n",
       " 4.727387818712341,\n",
       " 4.736198448394496,\n",
       " 4.762173934797756,\n",
       " 4.770684624465665,\n",
       " 4.77912349311153,\n",
       " 4.795790545596741,\n",
       " 4.836281906951478,\n",
       " 4.852030263919617,\n",
       " 4.90527477843843,\n",
       " 4.912654885736052,\n",
       " 4.919980925828125,\n",
       " 4.927253685157205,\n",
       " 4.9344739331306915,\n",
       " 4.948759890378168,\n",
       " 4.962844630259907,\n",
       " 4.969813299576001,\n",
       " 4.976733742420574,\n",
       " 4.990432586778736,\n",
       " 4.997212273764115,\n",
       " 5.003946305945459,\n",
       " 5.0106352940962555,\n",
       " 5.017279836814924,\n",
       " 5.0238805208462765,\n",
       " 5.0369526024136295,\n",
       " 5.043425116919247,\n",
       " 5.056245805348308,\n",
       " 5.062595033026967,\n",
       " 5.0689042022202315,\n",
       " 5.081404364984463,\n",
       " 5.10594547390058,\n",
       " 5.117993812416755,\n",
       " 5.123963979403259,\n",
       " 5.1298987149230735,\n",
       " 5.14166355650266,\n",
       " 5.1647859739235145,\n",
       " 5.170483995038151,\n",
       " 5.176149732573829,\n",
       " 5.181783550292085,\n",
       " 5.187385805840755,\n",
       " 5.19295685089021,\n",
       " 5.209486152841421,\n",
       " 5.214935757608986,\n",
       " 5.236441962829949,\n",
       " 5.241747015059643,\n",
       " 5.25227342804663,\n",
       " 5.272999558563747,\n",
       " 5.298317366548036,\n",
       " 5.318119993844216,\n",
       " 5.3230099791384085,\n",
       " 5.332718793265369,\n",
       " 5.342334251964811,\n",
       " 5.351858133476067,\n",
       " 5.3612921657094255,\n",
       " 5.3706380281276624,\n",
       " 5.393627546352362,\n",
       " 5.402677381872279,\n",
       " 5.407171771460119,\n",
       " 5.41610040220442,\n",
       " 5.420534999272286,\n",
       " 5.429345628954441,\n",
       " 5.442417710521793,\n",
       " 5.4510384535657,\n",
       " 5.455321115357702,\n",
       " 5.4638318050256105,\n",
       " 5.4680601411351315,\n",
       " 5.472270673671475,\n",
       " 5.476463551931511,\n",
       " 5.493061443340548,\n",
       " 5.501258210544727,\n",
       " 5.529429087511423,\n",
       " 5.53338948872752,\n",
       " 5.537334267018537,\n",
       " 5.541263545158426,\n",
       " 5.545177444479562,\n",
       " 5.54907608489522,\n",
       " 5.556828061699537,\n",
       " 5.560681631015528,\n",
       " 5.564520407322694,\n",
       " 5.568344503761097,\n",
       " 5.58724865840025,\n",
       " 5.594711379601839,\n",
       " 5.62040086571715,\n",
       " 5.631211781821365,\n",
       " 5.638354669333745,\n",
       " 5.641907070938114,\n",
       " 5.655991810819852,\n",
       " 5.662960480135946,\n",
       " 5.666426688112432,\n",
       " 5.66988092298052,\n",
       " 5.673323267171493,\n",
       " 5.676753802268282,\n",
       " 5.683579767338681,\n",
       " 5.69035945432406,\n",
       " 5.6937321388027,\n",
       " 5.703782474656201,\n",
       " 5.707110264748875,\n",
       " 5.713732805509369,\n",
       " 5.720311776607412,\n",
       " 5.726847747587197,\n",
       " 5.733341276897746,\n",
       " 5.736572297479192,\n",
       " 5.739792912179234,\n",
       " 5.755742213586912,\n",
       " 5.765191102784844,\n",
       " 5.771441123130016,\n",
       " 5.777652323222656,\n",
       " 5.796057750765372,\n",
       " 5.811140992976701,\n",
       " 5.817111159963204,\n",
       " 5.823045895483019,\n",
       " 5.82600010738045,\n",
       " 5.831882477283517,\n",
       " 5.863631175598097,\n",
       " 5.8664680569332965,\n",
       " 5.869296913133774,\n",
       " 5.87493073085203,\n",
       " 5.877735781779639,\n",
       " 5.886104031450156,\n",
       " 5.8888779583328805,\n",
       " 5.8944028342648505,\n",
       " 5.8998973535824915,\n",
       " 5.902633333401366,\n",
       " 5.905361848054571,\n",
       " 5.910796644040527,\n",
       " 5.921578419643816,\n",
       " 5.929589143389895,\n",
       " 5.932245187448011,\n",
       " 5.937536205082426,\n",
       " 5.940171252720432,\n",
       " 5.945420608606575,\n",
       " 5.948034989180646,\n",
       " 5.950642552587727,\n",
       " 5.955837369464831,\n",
       " 5.961005339623274,\n",
       " 5.963579343618446,\n",
       " 5.983936280687191,\n",
       " 5.991464547107982,\n",
       " 5.993961427306569,\n",
       " 5.998936561946683,\n",
       " 6.018593214496234,\n",
       " 6.023447592961033,\n",
       " 6.030685260261263,\n",
       " 6.037870919922137,\n",
       " 6.0473721790462776,\n",
       " 6.049733455231958,\n",
       " 6.052089168924417,\n",
       " 6.061456918928017,\n",
       " 6.075346031088684,\n",
       " 6.07993319509559,\n",
       " 6.0844994130751715,\n",
       " 6.089044875446846,\n",
       " 6.093569770045136,\n",
       " 6.095824562432225,\n",
       " 6.1070228877422545,\n",
       " 6.111467339502679,\n",
       " 6.113682179832232,\n",
       " 6.115892125483034,\n",
       " 6.142037405587356,\n",
       " 6.154858094016418,\n",
       " 6.159095388491933,\n",
       " 6.161207321695077,\n",
       " 6.1779441140506,\n",
       " 6.20050917404269,\n",
       " 6.220590170099739,\n",
       " 6.22455842927536,\n",
       " 6.2285110035911835,\n",
       " 6.236369590203704,\n",
       " 6.2422232654551655,\n",
       " 6.244166900663736,\n",
       " 6.253828811575473,\n",
       " 6.26530121273771,\n",
       " 6.270988431858299,\n",
       " 6.274762021241939,\n",
       " 6.278521424165844,\n",
       " 6.309918278226516,\n",
       " 6.318968113746434,\n",
       " 6.333279628139691,\n",
       " 6.343880434126331,\n",
       " 6.35088571671474,\n",
       " 6.352629396319567,\n",
       " 6.3578422665081,\n",
       " 6.363028103540465,\n",
       " 6.371611847231857,\n",
       " 6.398594934535208,\n",
       " 6.403574197934815,\n",
       " 6.405228458030842,\n",
       " 6.423246963533519,\n",
       " 6.432940092739179,\n",
       " 6.447305862541213,\n",
       " 6.450470422144176,\n",
       " 6.453624998892692,\n",
       " 6.480044561926653,\n",
       " 6.481577129276431,\n",
       " 6.489204931325317,\n",
       " 6.499787040655854,\n",
       " 6.505784060128229,\n",
       " 6.523562306149512,\n",
       " 6.566672429803241,\n",
       " 6.5722825426940075,\n",
       " 6.588926477533519,\n",
       " 6.5998704992128365,\n",
       " 6.6052979209482015,\n",
       " 6.618738983517219,\n",
       " 6.626717749249025,\n",
       " 6.634633357861686,\n",
       " 6.637258031284457,\n",
       " 6.645090969505644,\n",
       " 6.648984550024776,\n",
       " 6.650279048587422,\n",
       " 6.954638864880987,\n",
       " nan,\n",
       " nan,\n",
       " 6.705639094860003,\n",
       " 6.7580945044277305,\n",
       " 6.769641976852503,\n",
       " 6.777646593635117,\n",
       " 6.787844982309579,\n",
       " 6.827629234502852,\n",
       " 6.852242569051878,\n",
       " 6.878326468291325,\n",
       " 6.999422467507961,\n",
       " 7.01301578963963,\n",
       " 7.05617528410041,\n",
       " 7.065613363597717,\n",
       " 7.110696122978827,\n",
       " 7.1631723908466425,\n",
       " 7.229113877793302}"
      ]
     },
     "execution_count": 33,
     "metadata": {},
     "output_type": "execute_result"
    }
   ],
   "source": [
    "set(list(all_data.MasVnrArea))"
   ]
  },
  {
   "cell_type": "code",
   "execution_count": 17,
   "metadata": {
    "ExecuteTime": {
     "end_time": "2018-05-30T20:06:40.981722Z",
     "start_time": "2018-05-30T20:06:40.976023Z"
    }
   },
   "outputs": [],
   "source": [
    "all_data.LotFrontage = all_data.LotFrontage.fillna(all_data.LotFrontage.median())"
   ]
  },
  {
   "cell_type": "markdown",
   "metadata": {},
   "source": [
    "The variables make sense to impute with 0, since if the value is missing, it can be assumed that the house does not have that specific feature (i.e. a house without a pool or garage)."
   ]
  },
  {
   "cell_type": "code",
   "execution_count": 18,
   "metadata": {
    "ExecuteTime": {
     "end_time": "2018-05-30T20:06:42.870242Z",
     "start_time": "2018-05-30T20:06:42.866425Z"
    }
   },
   "outputs": [],
   "source": [
    "all_data = all_data.fillna(0)"
   ]
  },
  {
   "cell_type": "markdown",
   "metadata": {},
   "source": [
    "Setting the `X_train`, `X_test`, and `y` variables for use with the Lasso Regularization model in sklearn. "
   ]
  },
  {
   "cell_type": "code",
   "execution_count": 21,
   "metadata": {
    "ExecuteTime": {
     "end_time": "2018-05-30T20:07:42.020908Z",
     "start_time": "2018-05-30T20:07:42.016386Z"
    }
   },
   "outputs": [],
   "source": [
    "X_train = all_data[:train.shape[0]]\n",
    "X_test = all_data[train.shape[0]:]\n",
    "y = train.SalePrice"
   ]
  },
  {
   "cell_type": "code",
   "execution_count": 22,
   "metadata": {
    "ExecuteTime": {
     "end_time": "2018-05-30T20:08:27.983794Z",
     "start_time": "2018-05-30T20:08:27.978121Z"
    }
   },
   "outputs": [],
   "source": [
    "from sklearn.linear_model import Ridge, RidgeCV, ElasticNet, LassoCV, LassoLarsCV\n",
    "from sklearn.model_selection import cross_val_score\n",
    "\n",
    "# Defining a RMSE function to calculate the residual mean squared error to evaluate the model\n",
    "def rmse_cv(model, X, y):\n",
    "    rmse= np.sqrt(-cross_val_score(model, X, y, scoring=\"neg_mean_squared_error\", cv = 5))\n",
    "    return(rmse)"
   ]
  },
  {
   "cell_type": "markdown",
   "metadata": {},
   "source": [
    "The `alpha_vals` grid is set rather lazily, but through basic iteration, any lower and the model simply won't converge, or have a higher RMSE."
   ]
  },
  {
   "cell_type": "code",
   "execution_count": 50,
   "metadata": {
    "ExecuteTime": {
     "end_time": "2018-05-30T20:12:32.746046Z",
     "start_time": "2018-05-30T20:12:32.561319Z"
    }
   },
   "outputs": [
    {
     "data": {
      "text/plain": [
       "0.9308069186876479"
      ]
     },
     "execution_count": 50,
     "metadata": {},
     "output_type": "execute_result"
    }
   ],
   "source": [
    "alpha_vals = np.linspace(0.0005, 1, 100)\n",
    "#alpha_vals = [1, 0.1, 0.001, 0.0005]\n",
    "model_lasso = LassoCV(alphas = alpha_vals).fit(X_train, y)\n",
    "model_lasso.score(X_train, y)"
   ]
  },
  {
   "cell_type": "code",
   "execution_count": 55,
   "metadata": {
    "ExecuteTime": {
     "end_time": "2018-05-30T20:12:57.313099Z",
     "start_time": "2018-05-30T20:12:55.997344Z"
    }
   },
   "outputs": [
    {
     "name": "stdout",
     "output_type": "stream",
     "text": [
      "With 5-fold CV, the RMSE values are: [0.10350657 0.13136015 0.12554621 0.10531017 0.14723826]\n",
      "Average RMSE: 0.1225922726968361\n"
     ]
    }
   ],
   "source": [
    "print(\"With 5-fold CV, the RMSE values are: \" + str(rmse_cv(model_lasso, X_train, y)))\n",
    "print(\"Average RMSE: \" + str(rmse_cv(model_lasso, X_train, y).mean()))"
   ]
  },
  {
   "cell_type": "markdown",
   "metadata": {},
   "source": [
    "Since lasso regularization works by shrinking the beta coefficients down to potentially zero, the following cells examine how many coefficients were reduced to zero (eliminated features), and of those that were kept, which ones were the most important."
   ]
  },
  {
   "cell_type": "code",
   "execution_count": 56,
   "metadata": {
    "ExecuteTime": {
     "end_time": "2018-05-30T20:13:55.547023Z",
     "start_time": "2018-05-30T20:13:55.541228Z"
    }
   },
   "outputs": [
    {
     "name": "stdout",
     "output_type": "stream",
     "text": [
      "Variables kept: 111\n",
      "Variables eliminated: 177\n"
     ]
    }
   ],
   "source": [
    "beta_vals = pd.Series(model_lasso.coef_, index = X_train.columns)\n",
    "\n",
    "print(\"Variables kept: \" + str(sum(beta_vals != 0)))\n",
    "print(\"Variables eliminated: \" + str(sum(beta_vals == 0)))"
   ]
  },
  {
   "cell_type": "code",
   "execution_count": 57,
   "metadata": {
    "ExecuteTime": {
     "end_time": "2018-05-30T20:13:56.351187Z",
     "start_time": "2018-05-30T20:13:56.345314Z"
    }
   },
   "outputs": [
    {
     "name": "stdout",
     "output_type": "stream",
     "text": [
      "RoofMatl_ClyTile        -0.703243\n",
      "MSZoning_C (all)        -0.292333\n",
      "Condition2_PosN         -0.190563\n",
      "Neighborhood_Edwards    -0.052388\n",
      "SaleCondition_Abnorml   -0.046832\n",
      "MSZoning_RM             -0.037929\n",
      "CentralAir_N            -0.035162\n",
      "GarageCond_Fa           -0.032055\n",
      "LandContour_Bnk         -0.030943\n",
      "SaleType_WD             -0.030842\n",
      "dtype: float64\n",
      "OverallQual             0.053173\n",
      "KitchenQual_Ex          0.063831\n",
      "Exterior1st_BrkFace     0.070378\n",
      "Neighborhood_NridgHt    0.071545\n",
      "LotArea                 0.071575\n",
      "Functional_Typ          0.072469\n",
      "Neighborhood_NoRidge    0.086291\n",
      "Neighborhood_Crawfor    0.104851\n",
      "Neighborhood_StoneBr    0.112555\n",
      "GrLivArea               0.397878\n",
      "dtype: float64\n"
     ]
    }
   ],
   "source": [
    "print(beta_vals.sort_values().head(10))\n",
    "print(beta_vals.sort_values().tail(10))"
   ]
  },
  {
   "cell_type": "code",
   "execution_count": 58,
   "metadata": {
    "ExecuteTime": {
     "end_time": "2018-05-30T20:13:57.085524Z",
     "start_time": "2018-05-30T20:13:56.777748Z"
    }
   },
   "outputs": [
    {
     "data": {
      "image/png": "[encoded data removed]",
      "text/plain": [
       "<Figure size 864x432 with 1 Axes>"
      ]
     },
     "metadata": {},
     "output_type": "display_data"
    }
   ],
   "source": [
    "important_feat = pd.concat([beta_vals.sort_values().head(10), beta_vals.sort_values().tail(10)])\n",
    "\n",
    "important_feat.plot(kind = \"barh\")\n",
    "plt.title(\"Coefficients in the Lasso Model\")\n",
    "plt.show()"
   ]
  },
  {
   "cell_type": "markdown",
   "metadata": {},
   "source": [
    "This last cell generated the predictions, and then creates the csv file for Kaggle submission.\n",
    "\n",
    "As a sidenote, since we performed a log transformation of `np.log1p` on the Sale Price in the beginning, we must do `np.expm1` on the predicted prices to bring it back to the original scale."
   ]
  },
  {
   "cell_type": "code",
   "execution_count": 196,
   "metadata": {
    "ExecuteTime": {
     "end_time": "2018-05-30T16:50:11.548852Z",
     "start_time": "2018-05-30T16:50:11.541187Z"
    }
   },
   "outputs": [],
   "source": [
    "pred = np.expm1(model_lasso.predict(X_test))\n",
    "\n",
    "submission = pd.DataFrame({'Id': test.Id, 'SalePrice': pred})\n",
    "submission.to_csv('attempt1.csv', index=False)"
   ]
  },
  {
   "cell_type": "code",
   "execution_count": null,
   "metadata": {},
   "outputs": [],
   "source": []
  }
 ],
 "metadata": {
  "kernelspec": {
   "display_name": "Python 3",
   "language": "python",
   "name": "python3"
  },
  "language_info": {
   "codemirror_mode": {
    "name": "ipython",
    "version": 3
   },
   "file_extension": ".py",
   "mimetype": "text/x-python",
   "name": "python",
   "nbconvert_exporter": "python",
   "pygments_lexer": "ipython3",
   "version": "3.6.4"
  },
  "varInspector": {
   "cols": {
    "lenName": 16,
    "lenType": 16,
    "lenVar": 40
   },
   "kernels_config": {
    "python": {
     "delete_cmd_postfix": "",
     "delete_cmd_prefix": "del ",
     "library": "var_list.py",
     "varRefreshCmd": "print(var_dic_list())"
    },
    "r": {
     "delete_cmd_postfix": ") ",
     "delete_cmd_prefix": "rm(",
     "library": "var_list.r",
     "varRefreshCmd": "cat(var_dic_list()) "
    }
   },
   "types_to_exclude": [
    "module",
    "function",
    "builtin_function_or_method",
    "instance",
    "_Feature"
   ],
   "window_display": false
  }
 },
 "nbformat": 4,
 "nbformat_minor": 2
}
