{
 "cells": [
  {
   "cell_type": "markdown",
   "metadata": {},
   "source": [
    "## Example to get predicted submissions file for Kaggle\n",
    "\n",
    "The following code guides through importing the `train` and `test` csv files, along with basic feature engineering, to get the final predicted sale values."
   ]
  },
  {
   "cell_type": "code",
   "execution_count": 47,
   "metadata": {
    "ExecuteTime": {
     "end_time": "2018-05-30T21:59:08.854362Z",
     "start_time": "2018-05-30T21:59:08.847627Z"
    }
   },
   "outputs": [],
   "source": [
    "import pandas as pd\n",
    "import numpy as np\n",
    "import matplotlib.pyplot as plt\n",
    "from scipy.stats import skew\n",
    "\n",
    "%matplotlib inline\n",
    "plt.rcParams['figure.figsize'] = (12.0, 6.0)"
   ]
  },
  {
   "cell_type": "code",
   "execution_count": 69,
   "metadata": {
    "ExecuteTime": {
     "end_time": "2018-05-30T22:07:58.311262Z",
     "start_time": "2018-05-30T22:07:58.265875Z"
    }
   },
   "outputs": [],
   "source": [
    "train = pd.read_csv('../data/train.csv')\n",
    "test = pd.read_csv('../data/test.csv')"
   ]
  },
  {
   "cell_type": "code",
   "execution_count": 70,
   "metadata": {
    "ExecuteTime": {
     "end_time": "2018-05-30T22:07:59.237966Z",
     "start_time": "2018-05-30T22:07:59.217241Z"
    }
   },
   "outputs": [],
   "source": [
    "# combining the train and test dataset, without the 'SalePrice' and 'Id' columns now\n",
    "# so as to not interfere when separating for X_train, X_test, and y\n",
    "\n",
    "all_data = pd.concat((train.loc[:,'MSSubClass':'SaleCondition'],\n",
    "                      test.loc[:,'MSSubClass':'SaleCondition']))"
   ]
  },
  {
   "cell_type": "code",
   "execution_count": 71,
   "metadata": {
    "ExecuteTime": {
     "end_time": "2018-05-30T22:08:01.235938Z",
     "start_time": "2018-05-30T22:08:01.233235Z"
    }
   },
   "outputs": [],
   "source": [
    "#train = train[train.GrLivArea < 4000] # for some reason this destroys the accuracy"
   ]
  },
  {
   "cell_type": "markdown",
   "metadata": {},
   "source": [
    "Looking at the distrbution of the SalePrice, and a ln(x+1) transformation on SalePrice.\n",
    "\n",
    "- ln(x+1) is used just in case there are any discontinuities or any values at 0, it will not break the code."
   ]
  },
  {
   "cell_type": "code",
   "execution_count": 72,
   "metadata": {
    "ExecuteTime": {
     "end_time": "2018-05-30T22:08:03.607867Z",
     "start_time": "2018-05-30T22:08:03.312929Z"
    }
   },
   "outputs": [
    {
     "data": {
      "image/png": "[encoded data removed]",
      "text/plain": [
       "<Figure size 864x432 with 2 Axes>"
      ]
     },
     "metadata": {},
     "output_type": "display_data"
    }
   ],
   "source": [
    "prices = pd.DataFrame({\"Original Prices\":train[\"SalePrice\"],\n",
    "                       \"Log Transform Prices\":np.log1p(train[\"SalePrice\"])})\n",
    "\n",
    "prices.hist()\n",
    "plt.show()"
   ]
  },
  {
   "cell_type": "markdown",
   "metadata": {},
   "source": [
    "As we can see the, the log-transform distribution looks much better than the right-skewed original SalePrice distribution."
   ]
  },
  {
   "cell_type": "code",
   "execution_count": 73,
   "metadata": {
    "ExecuteTime": {
     "end_time": "2018-05-30T22:08:07.647958Z",
     "start_time": "2018-05-30T22:08:07.643942Z"
    }
   },
   "outputs": [
    {
     "name": "stdout",
     "output_type": "stream",
     "text": [
      "The skewness value for regular SalePrice is: 1.880940746034036\n"
     ]
    }
   ],
   "source": [
    "print('The skewness value for regular SalePrice is: ' + str(skew(train['SalePrice'])))"
   ]
  },
  {
   "cell_type": "code",
   "execution_count": 74,
   "metadata": {
    "ExecuteTime": {
     "end_time": "2018-05-30T22:08:08.418529Z",
     "start_time": "2018-05-30T22:08:08.412407Z"
    }
   },
   "outputs": [
    {
     "name": "stdout",
     "output_type": "stream",
     "text": [
      "The skewness value for the transformed SalePrice is: 0.12122191311528359\n"
     ]
    }
   ],
   "source": [
    "# transforming the target variable\n",
    "train[\"SalePrice\"] = np.log1p(train[\"SalePrice\"])\n",
    "\n",
    "# the new skewness value\n",
    "print('The skewness value for the transformed SalePrice is: ' + str(skew(train['SalePrice'])))"
   ]
  },
  {
   "cell_type": "markdown",
   "metadata": {},
   "source": [
    "The variables make sense to impute with 0, since if the value is missing, it can be assumed that the house does not have that specific feature (i.e. a house without a pool or garage)."
   ]
  },
  {
   "cell_type": "code",
   "execution_count": 75,
   "metadata": {
    "ExecuteTime": {
     "end_time": "2018-05-30T22:08:21.420315Z",
     "start_time": "2018-05-30T22:08:21.414377Z"
    }
   },
   "outputs": [],
   "source": [
    "all_data.LotFrontage = all_data.LotFrontage.fillna(all_data.LotFrontage.median())\n",
    "all_data.GarageYrBlt = all_data.GarageYrBlt.fillna(all_data.GarageYrBlt.median())"
   ]
  },
  {
   "cell_type": "code",
   "execution_count": 76,
   "metadata": {
    "ExecuteTime": {
     "end_time": "2018-05-30T22:08:24.151486Z",
     "start_time": "2018-05-30T22:08:24.130729Z"
    }
   },
   "outputs": [],
   "source": [
    "all_data = all_data.fillna(0)"
   ]
  },
  {
   "cell_type": "markdown",
   "metadata": {},
   "source": [
    "Applying this log transform to all the features that have a skewness value above 0.75:"
   ]
  },
  {
   "cell_type": "code",
   "execution_count": 77,
   "metadata": {
    "ExecuteTime": {
     "end_time": "2018-05-30T22:17:06.162903Z",
     "start_time": "2018-05-30T22:17:06.120411Z"
    }
   },
   "outputs": [
    {
     "name": "stdout",
     "output_type": "stream",
     "text": [
      "MiscVal          24.451640\n",
      "PoolArea         14.813135\n",
      "LotArea          12.195142\n",
      "3SsnPorch        10.293752\n",
      "LowQualFinSF      9.002080\n",
      "KitchenAbvGr      4.483784\n",
      "BsmtFinSF2        4.250888\n",
      "ScreenPorch       4.117977\n",
      "BsmtHalfBath      4.099186\n",
      "EnclosedPorch     3.086696\n",
      "MasVnrArea        2.666326\n",
      "OpenPorchSF       2.361912\n",
      "LotFrontage       2.160866\n",
      "BsmtFinSF1        1.683771\n",
      "WoodDeckSF        1.539792\n",
      "TotalBsmtSF       1.522688\n",
      "MSSubClass        1.406210\n",
      "1stFlrSF          1.375342\n",
      "GrLivArea         1.365156\n",
      "BsmtUnfSF         0.919323\n",
      "2ndFlrSF          0.812194\n",
      "OverallCond       0.692355\n",
      "TotRmsAbvGrd      0.675646\n",
      "HalfBath          0.675203\n",
      "Fireplaces        0.648898\n",
      "BsmtFullBath      0.595454\n",
      "OverallQual       0.216721\n",
      "MoSold            0.211835\n",
      "BedroomAbvGr      0.211572\n",
      "GarageArea        0.179796\n",
      "YrSold            0.096170\n",
      "FullBath          0.036524\n",
      "GarageCars       -0.342197\n",
      "YearRemodAdd     -0.503044\n",
      "YearBuilt        -0.612831\n",
      "GarageYrBlt      -0.648708\n",
      "dtype: float64\n"
     ]
    }
   ],
   "source": [
    "# taking only numeric continuous features\n",
    "numeric_feats = all_data.dtypes[all_data.dtypes != \"object\"].index\n",
    "\n",
    "skewed_feats = train[numeric_feats].apply(lambda x: skew(x.dropna()))\n",
    "#print(skewed_feats.sort_values(ascending=False))\n",
    "skewed_feats = skewed_feats[skewed_feats > 0.75]\n",
    "skewed_feats = skewed_feats.index\n",
    "\n",
    "all_data[skewed_feats] = np.log1p(all_data[skewed_feats])"
   ]
  },
  {
   "cell_type": "markdown",
   "metadata": {},
   "source": [
    "Transforming any categorical columns with strings into dummy columns (so it is either 0 or 1 depending on what category the observation falls into). "
   ]
  },
  {
   "cell_type": "code",
   "execution_count": 78,
   "metadata": {
    "ExecuteTime": {
     "end_time": "2018-05-30T22:19:16.238684Z",
     "start_time": "2018-05-30T22:19:16.185569Z"
    }
   },
   "outputs": [],
   "source": [
    "all_data = pd.get_dummies(all_data, drop_first=True)"
   ]
  },
  {
   "cell_type": "code",
   "execution_count": 79,
   "metadata": {
    "ExecuteTime": {
     "end_time": "2018-05-30T22:19:18.095725Z",
     "start_time": "2018-05-30T22:19:18.092761Z"
    }
   },
   "outputs": [
    {
     "name": "stdout",
     "output_type": "stream",
     "text": [
      "(2919, 268)\n"
     ]
    }
   ],
   "source": [
    "print(all_data.shape)"
   ]
  },
  {
   "cell_type": "markdown",
   "metadata": {},
   "source": [
    "Imputing any missing values, of which there are a decent amount:"
   ]
  },
  {
   "cell_type": "code",
   "execution_count": 80,
   "metadata": {
    "ExecuteTime": {
     "end_time": "2018-05-30T22:19:55.798540Z",
     "start_time": "2018-05-30T22:19:55.770574Z"
    }
   },
   "outputs": [
    {
     "data": {
      "text/plain": [
       "SaleCondition_Partial    0\n",
       "Condition1_Norm          0\n",
       "BldgType_2fmCon          0\n",
       "Condition2_RRNn          0\n",
       "Condition2_RRAn          0\n",
       "Condition2_RRAe          0\n",
       "Condition2_PosN          0\n",
       "Condition2_PosA          0\n",
       "Condition2_Norm          0\n",
       "Condition2_Feedr         0\n",
       "Condition1_RRNn          0\n",
       "Condition1_RRNe          0\n",
       "Condition1_RRAn          0\n",
       "Condition1_RRAe          0\n",
       "Condition1_PosN          0\n",
       "Condition1_PosA          0\n",
       "Condition1_Feedr         0\n",
       "BldgType_Twnhs           0\n",
       "Neighborhood_Veenker     0\n",
       "Neighborhood_Timber      0\n",
       "Neighborhood_StoneBr     0\n",
       "Neighborhood_Somerst     0\n",
       "Neighborhood_SawyerW     0\n",
       "Neighborhood_Sawyer      0\n",
       "Neighborhood_SWISU       0\n",
       "Neighborhood_OldTown     0\n",
       "Neighborhood_NridgHt     0\n",
       "Neighborhood_NoRidge     0\n",
       "Neighborhood_NWAmes      0\n",
       "Neighborhood_NPkVill     0\n",
       "dtype: int64"
      ]
     },
     "execution_count": 80,
     "metadata": {},
     "output_type": "execute_result"
    }
   ],
   "source": [
    "all_data.isna().sum().sort_values(ascending=False).head(30)"
   ]
  },
  {
   "cell_type": "markdown",
   "metadata": {},
   "source": [
    "Since it doesn't make sense to impute the `LotFrontage` with a value of 0, we can either impute it with the mean or median of that column. Or use KNN (probably the best solution). \n",
    "\n",
    "Doing the safe route for now, by imputing the missing values with the median of the column."
   ]
  },
  {
   "cell_type": "code",
   "execution_count": 68,
   "metadata": {
    "ExecuteTime": {
     "end_time": "2018-05-30T22:07:09.517335Z",
     "start_time": "2018-05-30T22:07:09.506262Z"
    }
   },
   "outputs": [
    {
     "data": {
      "text/plain": [
       "LotFrontage     486\n",
       "GarageYrBlt     159\n",
       "MasVnrArea       23\n",
       "BsmtHalfBath      2\n",
       "BsmtFullBath      2\n",
       "GarageArea        1\n",
       "BsmtFinSF1        1\n",
       "BsmtFinSF2        1\n",
       "BsmtUnfSF         1\n",
       "TotalBsmtSF       1\n",
       "dtype: int64"
      ]
     },
     "execution_count": 68,
     "metadata": {},
     "output_type": "execute_result"
    }
   ],
   "source": [
    "num_feats = all_data.dtypes[all_data.dtypes != 'object'].index\n",
    "all_data[num_feats].isna().sum().sort_values(ascending=False).head(10)"
   ]
  },
  {
   "cell_type": "markdown",
   "metadata": {},
   "source": [
    "Setting the `X_train`, `X_test`, and `y` variables for use with the Lasso Regularization model in sklearn. "
   ]
  },
  {
   "cell_type": "code",
   "execution_count": 81,
   "metadata": {
    "ExecuteTime": {
     "end_time": "2018-05-30T22:21:02.484871Z",
     "start_time": "2018-05-30T22:21:02.480814Z"
    }
   },
   "outputs": [],
   "source": [
    "X_train = all_data[:train.shape[0]]\n",
    "X_test = all_data[train.shape[0]:]\n",
    "y = train.SalePrice"
   ]
  },
  {
   "cell_type": "code",
   "execution_count": 44,
   "metadata": {
    "ExecuteTime": {
     "end_time": "2018-05-30T21:51:09.194036Z",
     "start_time": "2018-05-30T21:51:09.111671Z"
    }
   },
   "outputs": [],
   "source": [
    "from sklearn.linear_model import Ridge, RidgeCV, ElasticNet, LassoCV, LassoLarsCV\n",
    "from sklearn.model_selection import cross_val_score\n",
    "\n",
    "# Defining a RMSE function to calculate the residual mean squared error to evaluate the model\n",
    "def rmse_cv(model, X, y):\n",
    "    rmse = np.sqrt(-cross_val_score(model, X, y, scoring=\"neg_mean_squared_error\", cv = 5))\n",
    "    return(rmse)"
   ]
  },
  {
   "cell_type": "markdown",
   "metadata": {},
   "source": [
    "The `alpha_vals` grid is set rather lazily, but through basic iteration, any lower and the model simply won't converge, or have a higher RMSE."
   ]
  },
  {
   "cell_type": "code",
   "execution_count": 94,
   "metadata": {
    "ExecuteTime": {
     "end_time": "2018-05-30T22:30:23.499521Z",
     "start_time": "2018-05-30T22:30:22.696145Z"
    }
   },
   "outputs": [
    {
     "name": "stdout",
     "output_type": "stream",
     "text": [
      "Best alpha value: 0.00011377741332214914\n"
     ]
    },
    {
     "data": {
      "text/plain": [
       "0.9251423114391033"
      ]
     },
     "execution_count": 94,
     "metadata": {},
     "output_type": "execute_result"
    }
   ],
   "source": [
    "alpha_vals = np.logspace(-4, 4, 1000)\n",
    "#alpha_vals = [1, 0.1, 0.001, 0.0005]\n",
    "model_lasso = LassoCV(alphas = alpha_vals, normalize=True).fit(X_train, y) \n",
    "print(\"Best alpha value: \" + str(model_lasso.alpha_))\n",
    "model_lasso.score(X_train, y)"
   ]
  },
  {
   "cell_type": "code",
   "execution_count": 95,
   "metadata": {
    "ExecuteTime": {
     "end_time": "2018-05-30T22:31:03.598252Z",
     "start_time": "2018-05-30T22:30:56.237472Z"
    }
   },
   "outputs": [
    {
     "name": "stdout",
     "output_type": "stream",
     "text": [
      "With 5-fold CV, the RMSE values are: [0.10243    0.13288816 0.13626522 0.11244549 0.14560481]\n",
      "Average RMSE: 0.12592673694633943\n"
     ]
    }
   ],
   "source": [
    "print(\"With 5-fold CV, the RMSE values are: \" + str(rmse_cv(model_lasso, X_train, y)))\n",
    "print(\"Average RMSE: \" + str(rmse_cv(model_lasso, X_train, y).mean()))"
   ]
  },
  {
   "cell_type": "markdown",
   "metadata": {},
   "source": [
    "Since lasso regularization works by shrinking the beta coefficients down to potentially zero, the following cells examine how many coefficients were reduced to zero (eliminated features), and of those that were kept, which ones were the most important."
   ]
  },
  {
   "cell_type": "code",
   "execution_count": 96,
   "metadata": {
    "ExecuteTime": {
     "end_time": "2018-05-30T22:31:32.594279Z",
     "start_time": "2018-05-30T22:31:32.589934Z"
    }
   },
   "outputs": [
    {
     "name": "stdout",
     "output_type": "stream",
     "text": [
      "Variables kept: 95\n",
      "Variables eliminated: 173\n"
     ]
    }
   ],
   "source": [
    "beta_vals = pd.Series(model_lasso.coef_, index = X_train.columns)\n",
    "\n",
    "print(\"Variables kept: \" + str(sum(beta_vals != 0)))\n",
    "print(\"Variables eliminated: \" + str(sum(beta_vals == 0)))"
   ]
  },
  {
   "cell_type": "code",
   "execution_count": 113,
   "metadata": {
    "ExecuteTime": {
     "end_time": "2018-05-30T23:01:21.824035Z",
     "start_time": "2018-05-30T23:01:21.811233Z"
    }
   },
   "outputs": [
    {
     "data": {
      "text/plain": [
       "[('MSSubClass', -0.0037233861918521466),\n",
       " ('LotFrontage', 0.0),\n",
       " ('LotArea', 0.07399422042111611),\n",
       " ('OverallQual', 0.05375352938995031),\n",
       " ('OverallCond', 0.0340788156873377),\n",
       " ('YearBuilt', 0.0017260582953689619),\n",
       " ('YearRemodAdd', 0.0008509919155057037),\n",
       " ('MasVnrArea', 0.0),\n",
       " ('BsmtFinSF1', 0.008041229466913215),\n",
       " ('BsmtFinSF2', -0.0),\n",
       " ('BsmtUnfSF', -0.0),\n",
       " ('TotalBsmtSF', 0.012984409434302076),\n",
       " ('1stFlrSF', 0.07252771632256963),\n",
       " ('2ndFlrSF', -0.0),\n",
       " ('LowQualFinSF', -0.0),\n",
       " ('GrLivArea', 0.37757069128011905),\n",
       " ('BsmtFullBath', 0.027128239479930743),\n",
       " ('BsmtHalfBath', 0.0),\n",
       " ('FullBath', 0.012490936216826308),\n",
       " ('HalfBath', 0.0),\n",
       " ('BedroomAbvGr', -0.0),\n",
       " ('KitchenAbvGr', -0.131958309207754),\n",
       " ('TotRmsAbvGrd', 0.0),\n",
       " ('Fireplaces', 0.018499654087905305),\n",
       " ('GarageYrBlt', 0.0),\n",
       " ('GarageCars', 0.04965448065780964),\n",
       " ('GarageArea', 2.32886466146072e-05),\n",
       " ('WoodDeckSF', 0.0026606808376504368),\n",
       " ('OpenPorchSF', 0.0005793341625299819),\n",
       " ('EnclosedPorch', 0.0),\n",
       " ('3SsnPorch', 0.0),\n",
       " ('ScreenPorch', 0.005437046909306954),\n",
       " ('PoolArea', 0.0),\n",
       " ('MiscVal', -0.0),\n",
       " ('MoSold', -0.0),\n",
       " ('YrSold', -0.0),\n",
       " ('MSZoning_C (all)', -0.3367319635683092),\n",
       " ('MSZoning_FV', 0.003644809936935492),\n",
       " ('MSZoning_RH', -0.0),\n",
       " ('MSZoning_RL', 0.0),\n",
       " ('MSZoning_RM', -0.04085272912788483),\n",
       " ('Street_Pave', 0.0),\n",
       " ('Alley_Grvl', -0.003257836522305261),\n",
       " ('Alley_Pave', 0.0),\n",
       " ('LotShape_IR2', 0.0),\n",
       " ('LotShape_IR3', -0.053025530021960504),\n",
       " ('LotShape_Reg', -0.0),\n",
       " ('LandContour_HLS', 0.0),\n",
       " ('LandContour_Low', 0.0),\n",
       " ('LandContour_Lvl', 0.0),\n",
       " ('Utilities_AllPub', 0.02928710335461991),\n",
       " ('Utilities_NoSeWa', -7.774224033914655e-16),\n",
       " ('LotConfig_CulDSac', 0.022404445160360734),\n",
       " ('LotConfig_FR2', -0.004325139890569725),\n",
       " ('LotConfig_FR3', -0.0),\n",
       " ('LotConfig_Inside', -0.0),\n",
       " ('LandSlope_Mod', 0.0),\n",
       " ('LandSlope_Sev', -0.0),\n",
       " ('Neighborhood_Blueste', 0.0),\n",
       " ('Neighborhood_BrDale', -0.0),\n",
       " ('Neighborhood_BrkSide', 0.019977897929054498),\n",
       " ('Neighborhood_ClearCr', 0.012727628728722072),\n",
       " ('Neighborhood_CollgCr', 0.0),\n",
       " ('Neighborhood_Crawfor', 0.0989629613064466),\n",
       " ('Neighborhood_Edwards', -0.04899608051726261),\n",
       " ('Neighborhood_Gilbert', -0.0),\n",
       " ('Neighborhood_IDOTRR', -0.0),\n",
       " ('Neighborhood_MeadowV', -0.017759901033317912),\n",
       " ('Neighborhood_Mitchel', -0.007392627479879553),\n",
       " ('Neighborhood_NAmes', -0.0),\n",
       " ('Neighborhood_NPkVill', 0.0),\n",
       " ('Neighborhood_NWAmes', -0.00014599710963563215),\n",
       " ('Neighborhood_NoRidge', 0.08330707643670536),\n",
       " ('Neighborhood_NridgHt', 0.07166829794483315),\n",
       " ('Neighborhood_OldTown', -0.009743639035815757),\n",
       " ('Neighborhood_SWISU', 0.0),\n",
       " ('Neighborhood_Sawyer', -0.0),\n",
       " ('Neighborhood_SawyerW', -0.0),\n",
       " ('Neighborhood_Somerst', 0.04069057099788926),\n",
       " ('Neighborhood_StoneBr', 0.10089114106232144),\n",
       " ('Neighborhood_Timber', 0.0),\n",
       " ('Neighborhood_Veenker', 0.0),\n",
       " ('Condition1_Feedr', -0.0),\n",
       " ('Condition1_Norm', 0.041353505731057),\n",
       " ('Condition1_PosA', -0.0),\n",
       " ('Condition1_PosN', 0.0),\n",
       " ('Condition1_RRAe', -0.030974383287423288),\n",
       " ('Condition1_RRAn', 0.0),\n",
       " ('Condition1_RRNe', -0.0),\n",
       " ('Condition1_RRNn', 0.0),\n",
       " ('Condition2_Feedr', 0.0),\n",
       " ('Condition2_Norm', 0.0),\n",
       " ('Condition2_PosA', 0.051443223225850244),\n",
       " ('Condition2_PosN', -0.4558987381211664),\n",
       " ('Condition2_RRAe', -0.0),\n",
       " ('Condition2_RRAn', -0.0),\n",
       " ('Condition2_RRNn', 0.0),\n",
       " ('BldgType_2fmCon', -0.0),\n",
       " ('BldgType_Duplex', -0.005425322416810654),\n",
       " ('BldgType_Twnhs', -0.008609715096514528),\n",
       " ('BldgType_TwnhsE', -0.0),\n",
       " ('HouseStyle_1.5Unf', 0.0),\n",
       " ('HouseStyle_1Story', 0.0),\n",
       " ('HouseStyle_2.5Fin', -0.0),\n",
       " ('HouseStyle_2.5Unf', 0.0),\n",
       " ('HouseStyle_2Story', -0.0),\n",
       " ('HouseStyle_SFoyer', 0.0),\n",
       " ('HouseStyle_SLvl', -0.0),\n",
       " ('RoofStyle_Gable', -0.0),\n",
       " ('RoofStyle_Gambrel', -0.0),\n",
       " ('RoofStyle_Hip', 0.0),\n",
       " ('RoofStyle_Mansard', 0.0),\n",
       " ('RoofStyle_Shed', 0.0),\n",
       " ('RoofMatl_CompShg', 0.0),\n",
       " ('RoofMatl_Membran', 0.0),\n",
       " ('RoofMatl_Metal', 0.0),\n",
       " ('RoofMatl_Roll', -0.0),\n",
       " ('RoofMatl_Tar&Grv', 0.0),\n",
       " ('RoofMatl_WdShake', 0.0),\n",
       " ('RoofMatl_WdShngl', 0.09158038135794258),\n",
       " ('Exterior1st_AsbShng', -0.0),\n",
       " ('Exterior1st_AsphShn', -0.0),\n",
       " ('Exterior1st_BrkComm', -0.10422997981603392),\n",
       " ('Exterior1st_BrkFace', 0.055832413069844086),\n",
       " ('Exterior1st_CBlock', -0.0),\n",
       " ('Exterior1st_CemntBd', 0.0),\n",
       " ('Exterior1st_HdBoard', -0.003223388648086811),\n",
       " ('Exterior1st_ImStucc', -0.0),\n",
       " ('Exterior1st_MetalSd', 0.0),\n",
       " ('Exterior1st_Plywood', -0.0),\n",
       " ('Exterior1st_Stone', -0.0),\n",
       " ('Exterior1st_Stucco', -0.0),\n",
       " ('Exterior1st_VinylSd', 0.0),\n",
       " ('Exterior1st_Wd Sdng', -0.007701162470844774),\n",
       " ('Exterior1st_WdShing', -0.0),\n",
       " ('Exterior2nd_AsbShng', -0.0),\n",
       " ('Exterior2nd_AsphShn', -0.0),\n",
       " ('Exterior2nd_Brk Cmn', -0.0),\n",
       " ('Exterior2nd_BrkFace', 0.0),\n",
       " ('Exterior2nd_CBlock', -0.0),\n",
       " ('Exterior2nd_CmentBd', 0.0),\n",
       " ('Exterior2nd_HdBoard', -0.0),\n",
       " ('Exterior2nd_ImStucc', 0.0),\n",
       " ('Exterior2nd_MetalSd', 0.0),\n",
       " ('Exterior2nd_Other', -0.0),\n",
       " ('Exterior2nd_Plywood', -0.0),\n",
       " ('Exterior2nd_Stone', -0.0),\n",
       " ('Exterior2nd_Stucco', -0.0020447591427897632),\n",
       " ('Exterior2nd_VinylSd', 0.0),\n",
       " ('Exterior2nd_Wd Sdng', -0.0),\n",
       " ('Exterior2nd_Wd Shng', -0.0),\n",
       " ('MasVnrType_BrkCmn', -0.019886519742180923),\n",
       " ('MasVnrType_BrkFace', 0.0),\n",
       " ('MasVnrType_None', -0.0),\n",
       " ('MasVnrType_Stone', 0.0),\n",
       " ('ExterQual_Fa', -0.0),\n",
       " ('ExterQual_Gd', 0.0),\n",
       " ('ExterQual_TA', -0.017150333541918496),\n",
       " ('ExterCond_Fa', -0.019573789866221197),\n",
       " ('ExterCond_Gd', -0.0),\n",
       " ('ExterCond_Po', -0.0),\n",
       " ('ExterCond_TA', 0.0),\n",
       " ('Foundation_CBlock', -0.0),\n",
       " ('Foundation_PConc', 0.019091873437353152),\n",
       " ('Foundation_Slab', -0.0),\n",
       " ('Foundation_Stone', 0.026480402509959484),\n",
       " ('Foundation_Wood', -0.02076784953507694),\n",
       " ('BsmtQual_Ex', 0.0537382088229527),\n",
       " ('BsmtQual_Fa', -0.0),\n",
       " ('BsmtQual_Gd', 0.0),\n",
       " ('BsmtQual_TA', -0.0020755391742598318),\n",
       " ('BsmtCond_Fa', -0.014689947018427208),\n",
       " ('BsmtCond_Gd', 0.0),\n",
       " ('BsmtCond_Po', -0.0),\n",
       " ('BsmtCond_TA', 0.0),\n",
       " ('BsmtExposure_Av', 0.0),\n",
       " ('BsmtExposure_Gd', 0.037181377044471164),\n",
       " ('BsmtExposure_Mn', 0.0),\n",
       " ('BsmtExposure_No', -0.011659774280937518),\n",
       " ('BsmtFinType1_ALQ', 0.0),\n",
       " ('BsmtFinType1_BLQ', -0.0),\n",
       " ('BsmtFinType1_GLQ', 0.002761211196424023),\n",
       " ('BsmtFinType1_LwQ', -0.0),\n",
       " ('BsmtFinType1_Rec', -0.0),\n",
       " ('BsmtFinType1_Unf', -0.0),\n",
       " ('BsmtFinType2_ALQ', 0.0016163574539739482),\n",
       " ('BsmtFinType2_BLQ', -0.003213847080172567),\n",
       " ('BsmtFinType2_GLQ', 0.0),\n",
       " ('BsmtFinType2_LwQ', -0.0),\n",
       " ('BsmtFinType2_Rec', -0.0),\n",
       " ('BsmtFinType2_Unf', 0.0),\n",
       " ('Heating_GasA', -0.0),\n",
       " ('Heating_GasW', 0.036332956568689664),\n",
       " ('Heating_Grav', -0.0952406247893923),\n",
       " ('Heating_OthW', -0.0),\n",
       " ('Heating_Wall', 0.0),\n",
       " ('HeatingQC_Fa', -0.00029154300963191924),\n",
       " ('HeatingQC_Gd', -0.0004063283550052964),\n",
       " ('HeatingQC_Po', -0.0),\n",
       " ('HeatingQC_TA', -0.0157272459117667),\n",
       " ('CentralAir_Y', 0.0399201685709184),\n",
       " ('Electrical_FuseA', 0.0),\n",
       " ('Electrical_FuseF', 0.0),\n",
       " ('Electrical_FuseP', -0.0),\n",
       " ('Electrical_Mix', -0.0),\n",
       " ('Electrical_SBrkr', -0.0),\n",
       " ('KitchenQual_Ex', 0.06083642757783383),\n",
       " ('KitchenQual_Fa', -0.0),\n",
       " ('KitchenQual_Gd', 0.0),\n",
       " ('KitchenQual_TA', -0.005211201132380693),\n",
       " ('Functional_Maj1', -0.0),\n",
       " ('Functional_Maj2', -0.15263923082193723),\n",
       " ('Functional_Min1', -0.0),\n",
       " ('Functional_Min2', 0.0),\n",
       " ('Functional_Mod', -0.0),\n",
       " ('Functional_Sev', -0.1920804579892102),\n",
       " ('Functional_Typ', 0.05956941481420182),\n",
       " ('FireplaceQu_Ex', 0.0),\n",
       " ('FireplaceQu_Fa', 0.0),\n",
       " ('FireplaceQu_Gd', 0.0035675777841522763),\n",
       " ('FireplaceQu_Po', 0.0),\n",
       " ('FireplaceQu_TA', 0.0),\n",
       " ('GarageType_2Types', -0.033609991847042955),\n",
       " ('GarageType_Attchd', 0.0),\n",
       " ('GarageType_Basment', -0.0021572594336981446),\n",
       " ('GarageType_BuiltIn', 0.0),\n",
       " ('GarageType_CarPort', -0.003026604857184195),\n",
       " ('GarageType_Detchd', -0.0),\n",
       " ('GarageFinish_Fin', 0.0015179078724611736),\n",
       " ('GarageFinish_RFn', 0.0),\n",
       " ('GarageFinish_Unf', -0.0009464526469809339),\n",
       " ('GarageQual_Ex', 0.06384193279207914),\n",
       " ('GarageQual_Fa', -0.002813730345154935),\n",
       " ('GarageQual_Gd', 0.025562729330814236),\n",
       " ('GarageQual_Po', 0.0),\n",
       " ('GarageQual_TA', 0.0),\n",
       " ('GarageCond_Ex', 0.0),\n",
       " ('GarageCond_Fa', -0.024852363090358643),\n",
       " ('GarageCond_Gd', 0.0),\n",
       " ('GarageCond_Po', 0.0),\n",
       " ('GarageCond_TA', 0.0),\n",
       " ('PavedDrive_P', -0.0),\n",
       " ('PavedDrive_Y', 0.005295070859991201),\n",
       " ('PoolQC_Ex', 0.04476680779524363),\n",
       " ('PoolQC_Fa', 0.0),\n",
       " ('PoolQC_Gd', -0.22382232154474754),\n",
       " ('Fence_GdPrv', 0.0),\n",
       " ('Fence_GdWo', -0.01302849953300566),\n",
       " ('Fence_MnPrv', -0.0),\n",
       " ('Fence_MnWw', -0.0),\n",
       " ('MiscFeature_Gar2', 0.0),\n",
       " ('MiscFeature_Othr', -0.020767592940809508),\n",
       " ('MiscFeature_Shed', -0.0),\n",
       " ('MiscFeature_TenC', 0.0),\n",
       " ('SaleType_COD', -0.0),\n",
       " ('SaleType_CWD', 0.0),\n",
       " ('SaleType_Con', 0.0),\n",
       " ('SaleType_ConLD', 0.020509758403781313),\n",
       " ('SaleType_ConLI', -0.0),\n",
       " ('SaleType_ConLw', 0.0),\n",
       " ('SaleType_New', 0.06270245385167333),\n",
       " ('SaleType_Oth', 0.0),\n",
       " ('SaleType_WD', -0.0),\n",
       " ('SaleCondition_AdjLand', 0.0),\n",
       " ('SaleCondition_Alloca', 0.0),\n",
       " ('SaleCondition_Family', -0.0),\n",
       " ('SaleCondition_Normal', 0.02687424684205943),\n",
       " ('SaleCondition_Partial', 0.0)]"
      ]
     },
     "execution_count": 113,
     "metadata": {},
     "output_type": "execute_result"
    }
   ],
   "source": [
    "list(zip(X_train.columns, beta_vals))"
   ]
  },
  {
   "cell_type": "code",
   "execution_count": 108,
   "metadata": {
    "ExecuteTime": {
     "end_time": "2018-05-30T22:42:26.372068Z",
     "start_time": "2018-05-30T22:42:26.365790Z"
    }
   },
   "outputs": [
    {
     "name": "stdout",
     "output_type": "stream",
     "text": [
      "Condition2_PosN        -0.455899\n",
      "MSZoning_C (all)       -0.336732\n",
      "PoolQC_Gd              -0.223822\n",
      "Functional_Sev         -0.192080\n",
      "Functional_Maj2        -0.152639\n",
      "KitchenAbvGr           -0.131958\n",
      "Exterior1st_BrkComm    -0.104230\n",
      "Heating_Grav           -0.095241\n",
      "LotShape_IR3           -0.053026\n",
      "Neighborhood_Edwards   -0.048996\n",
      "dtype: float64\n",
      "SaleType_New            0.062702\n",
      "GarageQual_Ex           0.063842\n",
      "Neighborhood_NridgHt    0.071668\n",
      "1stFlrSF                0.072528\n",
      "LotArea                 0.073994\n",
      "Neighborhood_NoRidge    0.083307\n",
      "RoofMatl_WdShngl        0.091580\n",
      "Neighborhood_Crawfor    0.098963\n",
      "Neighborhood_StoneBr    0.100891\n",
      "GrLivArea               0.377571\n",
      "dtype: float64\n"
     ]
    }
   ],
   "source": [
    "print(beta_vals.sort_values().head(10))\n",
    "print(beta_vals.sort_values().tail(10))"
   ]
  },
  {
   "cell_type": "code",
   "execution_count": 109,
   "metadata": {
    "ExecuteTime": {
     "end_time": "2018-05-30T22:47:10.943495Z",
     "start_time": "2018-05-30T22:47:10.633533Z"
    }
   },
   "outputs": [
    {
     "data": {
      "image/png": "[encoded data removed]",
      "text/plain": [
       "<Figure size 864x432 with 1 Axes>"
      ]
     },
     "metadata": {},
     "output_type": "display_data"
    }
   ],
   "source": [
    "important_feat = pd.concat([beta_vals.sort_values().head(10), beta_vals.sort_values().tail(10)])\n",
    "\n",
    "important_feat.plot(kind = \"barh\")\n",
    "plt.title(\"Coefficients in the Lasso Model\")\n",
    "plt.show()"
   ]
  },
  {
   "cell_type": "markdown",
   "metadata": {},
   "source": [
    "This last cell generated the predictions, and then creates the csv file for Kaggle submission.\n",
    "\n",
    "As a sidenote, since we performed a log transformation of `np.log1p` on the Sale Price in the beginning, we must do `np.expm1` on the predicted prices to bring it back to the original scale."
   ]
  },
  {
   "cell_type": "code",
   "execution_count": 110,
   "metadata": {
    "ExecuteTime": {
     "end_time": "2018-05-30T22:50:22.773896Z",
     "start_time": "2018-05-30T22:50:22.760372Z"
    }
   },
   "outputs": [],
   "source": [
    "pred = np.expm1(model_lasso.predict(X_test))\n",
    "\n",
    "submission = pd.DataFrame({'Id': test.Id, 'SalePrice': pred})\n",
    "submission.to_csv('attempt2.csv', index=False)"
   ]
  },
  {
   "cell_type": "code",
   "execution_count": 124,
   "metadata": {
    "ExecuteTime": {
     "end_time": "2018-05-30T23:05:27.564178Z",
     "start_time": "2018-05-30T23:05:27.557295Z"
    }
   },
   "outputs": [
    {
     "data": {
      "text/plain": [
       "(1460, 95)"
      ]
     },
     "execution_count": 124,
     "metadata": {},
     "output_type": "execute_result"
    }
   ],
   "source": [
    "ridge_var = X_train[(beta_vals!=0).index[beta_vals!=0]]\n",
    "\n",
    "ridge_var.shape"
   ]
  },
  {
   "cell_type": "code",
   "execution_count": 140,
   "metadata": {
    "ExecuteTime": {
     "end_time": "2018-05-30T23:25:06.350731Z",
     "start_time": "2018-05-30T23:25:06.233825Z"
    }
   },
   "outputs": [
    {
     "name": "stdout",
     "output_type": "stream",
     "text": [
      "Best alpha value: 0.13530477745798075\n"
     ]
    },
    {
     "data": {
      "text/plain": [
       "0.9284434994813685"
      ]
     },
     "execution_count": 140,
     "metadata": {},
     "output_type": "execute_result"
    }
   ],
   "source": [
    "alphas_ridge = np.logspace(-2, 2, 100)\n",
    "\n",
    "model_ridge = RidgeCV(alphas=alphas_ridge, normalize=True).fit(ridge_var, y)\n",
    "print(\"Best alpha value: \" + str(model_ridge.alpha_))\n",
    "model_ridge.score(ridge_var, y)"
   ]
  },
  {
   "cell_type": "code",
   "execution_count": 134,
   "metadata": {
    "ExecuteTime": {
     "end_time": "2018-05-30T23:11:58.788518Z",
     "start_time": "2018-05-30T23:11:58.774914Z"
    }
   },
   "outputs": [],
   "source": [
    "ridge_pred = np.expm1(model_ridge.predict(X_test[(beta_vals!=0).index[beta_vals!=0]]))\n",
    "\n",
    "submission = pd.DataFrame({'Id': test.Id, 'SalePrice': pred})\n",
    "submission.to_csv('attempt_ridge2.csv', index=False)"
   ]
  },
  {
   "cell_type": "code",
   "execution_count": 136,
   "metadata": {
    "ExecuteTime": {
     "end_time": "2018-05-30T23:16:00.654564Z",
     "start_time": "2018-05-30T23:16:00.651780Z"
    }
   },
   "outputs": [],
   "source": [
    "ridge_beta_vals = pd.Series(model_ridge.coef_, index = ridge_var.columns)"
   ]
  },
  {
   "cell_type": "code",
   "execution_count": 138,
   "metadata": {
    "ExecuteTime": {
     "end_time": "2018-05-30T23:16:18.652150Z",
     "start_time": "2018-05-30T23:16:18.647422Z"
    }
   },
   "outputs": [
    {
     "data": {
      "text/plain": [
       "Condition2_PosN       -0.478761\n",
       "MSZoning_C (all)      -0.383226\n",
       "PoolQC_Gd             -0.239724\n",
       "Functional_Sev        -0.237543\n",
       "Functional_Maj2       -0.221959\n",
       "Exterior1st_BrkComm   -0.209326\n",
       "Heating_Grav          -0.141706\n",
       "MiscFeature_Othr      -0.126165\n",
       "KitchenAbvGr          -0.102829\n",
       "Utilities_NoSeWa      -0.094380\n",
       "dtype: float64"
      ]
     },
     "execution_count": 138,
     "metadata": {},
     "output_type": "execute_result"
    }
   ],
   "source": [
    "ridge_beta_vals.sort_values().head(10)"
   ]
  },
  {
   "cell_type": "code",
   "execution_count": 139,
   "metadata": {
    "ExecuteTime": {
     "end_time": "2018-05-30T23:16:26.979590Z",
     "start_time": "2018-05-30T23:16:26.972225Z"
    }
   },
   "outputs": [
    {
     "data": {
      "text/plain": [
       "Utilities_AllPub        0.094380\n",
       "GarageQual_Ex           0.099240\n",
       "Heating_GasW            0.104821\n",
       "Neighborhood_Crawfor    0.116330\n",
       "Neighborhood_NoRidge    0.118768\n",
       "Neighborhood_StoneBr    0.122498\n",
       "RoofMatl_WdShngl        0.151332\n",
       "Condition2_PosA         0.191835\n",
       "PoolQC_Ex               0.194094\n",
       "GrLivArea               0.282952\n",
       "dtype: float64"
      ]
     },
     "execution_count": 139,
     "metadata": {},
     "output_type": "execute_result"
    }
   ],
   "source": [
    "ridge_beta_vals.sort_values().tail(10)"
   ]
  },
  {
   "cell_type": "code",
   "execution_count": null,
   "metadata": {},
   "outputs": [],
   "source": []
  }
 ],
 "metadata": {
  "kernelspec": {
   "display_name": "Python 3",
   "language": "python",
   "name": "python3"
  },
  "language_info": {
   "codemirror_mode": {
    "name": "ipython",
    "version": 3
   },
   "file_extension": ".py",
   "mimetype": "text/x-python",
   "name": "python",
   "nbconvert_exporter": "python",
   "pygments_lexer": "ipython3",
   "version": "3.6.5"
  },
  "varInspector": {
   "cols": {
    "lenName": 16,
    "lenType": 16,
    "lenVar": 40
   },
   "kernels_config": {
    "python": {
     "delete_cmd_postfix": "",
     "delete_cmd_prefix": "del ",
     "library": "var_list.py",
     "varRefreshCmd": "print(var_dic_list())"
    },
    "r": {
     "delete_cmd_postfix": ") ",
     "delete_cmd_prefix": "rm(",
     "library": "var_list.r",
     "varRefreshCmd": "cat(var_dic_list()) "
    }
   },
   "types_to_exclude": [
    "module",
    "function",
    "builtin_function_or_method",
    "instance",
    "_Feature"
   ],
   "window_display": false
  }
 },
 "nbformat": 4,
 "nbformat_minor": 2
}
