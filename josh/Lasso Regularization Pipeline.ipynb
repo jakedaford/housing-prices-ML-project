{
 "cells": [
  {
   "cell_type": "markdown",
   "metadata": {},
   "source": [
    "## Example to get predicted submissions file for Kaggle\n",
    "\n",
    "The following code guides through importing the `train` and `test` csv files, along with basic feature engineering, to get the final predicted sale values."
   ]
  },
  {
   "cell_type": "code",
   "execution_count": 6,
   "metadata": {
    "ExecuteTime": {
     "end_time": "2018-05-30T20:06:10.208475Z",
     "start_time": "2018-05-30T20:06:10.201141Z"
    }
   },
   "outputs": [],
   "source": [
    "import pandas as pd\n",
    "import numpy as np\n",
    "import matplotlib.pyplot as plt\n",
    "from scipy.stats import skew\n",
    "\n",
    "%matplotlib inline\n",
    "plt.rcParams['figure.figsize'] = (12.0, 6.0)"
   ]
  },
  {
   "cell_type": "code",
   "execution_count": 8,
   "metadata": {
    "ExecuteTime": {
     "end_time": "2018-05-30T20:06:18.375085Z",
     "start_time": "2018-05-30T20:06:18.326199Z"
    }
   },
   "outputs": [],
   "source": [
    "train = pd.read_csv('../data/train.csv')\n",
    "test = pd.read_csv('../data/test.csv')"
   ]
  },
  {
   "cell_type": "code",
   "execution_count": 9,
   "metadata": {
    "ExecuteTime": {
     "end_time": "2018-05-30T20:06:19.067898Z",
     "start_time": "2018-05-30T20:06:19.048544Z"
    }
   },
   "outputs": [],
   "source": [
    "# combining the train and test dataset, without the 'SalePrice' and 'Id' columns now\n",
    "# so as to not interfere when separating for X_train, X_test, and y\n",
    "\n",
    "all_data = pd.concat((train.loc[:,'MSSubClass':'SaleCondition'],\n",
    "                      test.loc[:,'MSSubClass':'SaleCondition']))"
   ]
  },
  {
   "cell_type": "code",
   "execution_count": 10,
   "metadata": {
    "ExecuteTime": {
     "end_time": "2018-05-30T20:06:19.714976Z",
     "start_time": "2018-05-30T20:06:19.712276Z"
    }
   },
   "outputs": [],
   "source": [
    "#train = train[train.GrLivArea < 4000] # for some reason this destroys the accuracy"
   ]
  },
  {
   "cell_type": "markdown",
   "metadata": {},
   "source": [
    "Looking at the distrbution of the SalePrice, and a ln(x+1) transformation on SalePrice.\n",
    "\n",
    "- ln(x+1) is used just in case there are any discontinuities or any values at 0, it will not break the code."
   ]
  },
  {
   "cell_type": "code",
   "execution_count": 11,
   "metadata": {
    "ExecuteTime": {
     "end_time": "2018-05-30T20:06:21.460891Z",
     "start_time": "2018-05-30T20:06:21.139158Z"
    }
   },
   "outputs": [
    {
     "data": {
      "image/png": "[encoded data removed]",
      "text/plain": [
       "<Figure size 864x432 with 2 Axes>"
      ]
     },
     "metadata": {},
     "output_type": "display_data"
    }
   ],
   "source": [
    "prices = pd.DataFrame({\"Original Prices\":train[\"SalePrice\"],\n",
    "                       \"Log Transform Prices\":np.log1p(train[\"SalePrice\"])})\n",
    "\n",
    "prices.hist()\n",
    "plt.show()"
   ]
  },
  {
   "cell_type": "markdown",
   "metadata": {},
   "source": [
    "As we can see the, the log-transform distribution looks much better than the right-skewed original SalePrice distribution."
   ]
  },
  {
   "cell_type": "code",
   "execution_count": 12,
   "metadata": {
    "ExecuteTime": {
     "end_time": "2018-05-30T20:06:23.312607Z",
     "start_time": "2018-05-30T20:06:23.307657Z"
    }
   },
   "outputs": [
    {
     "name": "stdout",
     "output_type": "stream",
     "text": [
      "The skewness value for regular SalePrice is: 1.880940746034036\n"
     ]
    }
   ],
   "source": [
    "print('The skewness value for regular SalePrice is: ' + str(skew(train['SalePrice'])))"
   ]
  },
  {
   "cell_type": "code",
   "execution_count": 13,
   "metadata": {
    "ExecuteTime": {
     "end_time": "2018-05-30T20:06:24.504092Z",
     "start_time": "2018-05-30T20:06:24.496908Z"
    }
   },
   "outputs": [
    {
     "name": "stdout",
     "output_type": "stream",
     "text": [
      "The skewness value for the transformed SalePrice is: 0.12122191311528359\n"
     ]
    }
   ],
   "source": [
    "# transforming the target variable\n",
    "train[\"SalePrice\"] = np.log1p(train[\"SalePrice\"])\n",
    "\n",
    "# the new skewness value\n",
    "print('The skewness value for the transformed SalePrice is: ' + str(skew(train['SalePrice'])))"
   ]
  },
  {
   "cell_type": "markdown",
   "metadata": {},
   "source": [
    "Applying this log transform to all the features that have a skewness value above 0.75:"
   ]
  },
  {
   "cell_type": "code",
   "execution_count": 14,
   "metadata": {
    "ExecuteTime": {
     "end_time": "2018-05-30T20:06:28.371253Z",
     "start_time": "2018-05-30T20:06:28.319438Z"
    }
   },
   "outputs": [],
   "source": [
    "# taking only numeric continuous features\n",
    "numeric_feats = all_data.dtypes[all_data.dtypes != \"object\"].index\n",
    "\n",
    "skewed_feats = train[numeric_feats].apply(lambda x: skew(x.dropna()))\n",
    "skewed_feats = skewed_feats[skewed_feats > 0.75]\n",
    "skewed_feats = skewed_feats.index\n",
    "\n",
    "all_data[skewed_feats] = np.log1p(all_data[skewed_feats])"
   ]
  },
  {
   "cell_type": "markdown",
   "metadata": {},
   "source": [
    "Transforming any categorical columns with strings into dummy columns (so it is either 0 or 1 depending on what category the observation falls into). "
   ]
  },
  {
   "cell_type": "code",
   "execution_count": 15,
   "metadata": {
    "ExecuteTime": {
     "end_time": "2018-05-30T20:06:33.668830Z",
     "start_time": "2018-05-30T20:06:33.616296Z"
    }
   },
   "outputs": [],
   "source": [
    "all_data = pd.get_dummies(all_data)"
   ]
  },
  {
   "cell_type": "markdown",
   "metadata": {},
   "source": [
    "Imputing any missing values, of which there are a decent amount:"
   ]
  },
  {
   "cell_type": "code",
   "execution_count": 16,
   "metadata": {
    "ExecuteTime": {
     "end_time": "2018-05-30T20:06:35.166490Z",
     "start_time": "2018-05-30T20:06:35.129963Z"
    }
   },
   "outputs": [
    {
     "data": {
      "text/plain": [
       "LotFrontage     486\n",
       "GarageYrBlt     159\n",
       "MasVnrArea       23\n",
       "BsmtFullBath      2\n",
       "BsmtHalfBath      2\n",
       "BsmtFinSF1        1\n",
       "BsmtFinSF2        1\n",
       "BsmtUnfSF         1\n",
       "TotalBsmtSF       1\n",
       "GarageArea        1\n",
       "dtype: int64"
      ]
     },
     "execution_count": 16,
     "metadata": {},
     "output_type": "execute_result"
    }
   ],
   "source": [
    "all_data.isna().sum().sort_values(ascending=False).head(10)"
   ]
  },
  {
   "cell_type": "markdown",
   "metadata": {},
   "source": [
    "Since it doesn't make sense to impute the `LotFrontage` with a value of 0, we can either impute it with the mean or median of that column. Or use KNN (probably the best solution). \n",
    "\n",
    "Doing the safe route for now, by imputing the missing values with the median of the column."
   ]
  },
  {
   "cell_type": "code",
   "execution_count": 17,
   "metadata": {
    "ExecuteTime": {
     "end_time": "2018-05-30T20:06:40.981722Z",
     "start_time": "2018-05-30T20:06:40.976023Z"
    }
   },
   "outputs": [],
   "source": [
    "all_data.LotFrontage = all_data.LotFrontage.fillna(all_data.LotFrontage.median())"
   ]
  },
  {
   "cell_type": "markdown",
   "metadata": {},
   "source": [
    "The variables make sense to impute with 0, since if the value is missing, it can be assumed that the house does not have that specific feature (i.e. a house without a pool or garage)."
   ]
  },
  {
   "cell_type": "code",
   "execution_count": 18,
   "metadata": {
    "ExecuteTime": {
     "end_time": "2018-05-30T20:06:42.870242Z",
     "start_time": "2018-05-30T20:06:42.866425Z"
    }
   },
   "outputs": [],
   "source": [
    "all_data = all_data.fillna(0)"
   ]
  },
  {
   "cell_type": "markdown",
   "metadata": {},
   "source": [
    "Setting the `X_train`, `X_test`, and `y` variables for use with the Lasso Regularization model in sklearn. "
   ]
  },
  {
   "cell_type": "code",
   "execution_count": 21,
   "metadata": {
    "ExecuteTime": {
     "end_time": "2018-05-30T20:07:42.020908Z",
     "start_time": "2018-05-30T20:07:42.016386Z"
    }
   },
   "outputs": [],
   "source": [
    "X_train = all_data[:train.shape[0]]\n",
    "X_test = all_data[train.shape[0]:]\n",
    "y = train.SalePrice"
   ]
  },
  {
   "cell_type": "code",
   "execution_count": 22,
   "metadata": {
    "ExecuteTime": {
     "end_time": "2018-05-30T20:08:27.983794Z",
     "start_time": "2018-05-30T20:08:27.978121Z"
    }
   },
   "outputs": [],
   "source": [
    "from sklearn.linear_model import Ridge, RidgeCV, ElasticNet, LassoCV, LassoLarsCV\n",
    "from sklearn.model_selection import cross_val_score\n",
    "\n",
    "# Defining a RMSE function to calculate the residual mean squared error to evaluate the model\n",
    "def rmse_cv(model, X, y):\n",
    "    rmse= np.sqrt(-cross_val_score(model, X, y, scoring=\"neg_mean_squared_error\", cv = 5))\n",
    "    return(rmse)"
   ]
  },
  {
   "cell_type": "markdown",
   "metadata": {},
   "source": [
    "The `alpha_vals` grid is set rather lazily, but through basic iteration, any lower and the model simply won't converge, or have a higher RMSE."
   ]
  },
  {
   "cell_type": "code",
   "execution_count": 50,
   "metadata": {
    "ExecuteTime": {
     "end_time": "2018-05-30T20:12:32.746046Z",
     "start_time": "2018-05-30T20:12:32.561319Z"
    }
   },
   "outputs": [
    {
     "data": {
      "text/plain": [
       "0.9308069186876479"
      ]
     },
     "execution_count": 50,
     "metadata": {},
     "output_type": "execute_result"
    }
   ],
   "source": [
    "alpha_vals = np.linspace(0.0005, 1, 100)\n",
    "#alpha_vals = [1, 0.1, 0.001, 0.0005]\n",
    "model_lasso = LassoCV(alphas = alpha_vals).fit(X_train, y)\n",
    "model_lasso.score(X_train, y)"
   ]
  },
  {
   "cell_type": "code",
   "execution_count": 55,
   "metadata": {
    "ExecuteTime": {
     "end_time": "2018-05-30T20:12:57.313099Z",
     "start_time": "2018-05-30T20:12:55.997344Z"
    }
   },
   "outputs": [
    {
     "name": "stdout",
     "output_type": "stream",
     "text": [
      "With 5-fold CV, the RMSE values are: [0.10350657 0.13136015 0.12554621 0.10531017 0.14723826]\n",
      "Average RMSE: 0.1225922726968361\n"
     ]
    }
   ],
   "source": [
    "print(\"With 5-fold CV, the RMSE values are: \" + str(rmse_cv(model_lasso, X_train, y)))\n",
    "print(\"Average RMSE: \" + str(rmse_cv(model_lasso, X_train, y).mean()))"
   ]
  },
  {
   "cell_type": "markdown",
   "metadata": {},
   "source": [
    "Since lasso regularization works by shrinking the beta coefficients down to potentially zero, the following cells examine how many coefficients were reduced to zero (eliminated features), and of those that were kept, which ones were the most important."
   ]
  },
  {
   "cell_type": "code",
   "execution_count": 56,
   "metadata": {
    "ExecuteTime": {
     "end_time": "2018-05-30T20:13:55.547023Z",
     "start_time": "2018-05-30T20:13:55.541228Z"
    }
   },
   "outputs": [
    {
     "name": "stdout",
     "output_type": "stream",
     "text": [
      "Variables kept: 111\n",
      "Variables eliminated: 177\n"
     ]
    }
   ],
   "source": [
    "beta_vals = pd.Series(model_lasso.coef_, index = X_train.columns)\n",
    "\n",
    "print(\"Variables kept: \" + str(sum(beta_vals != 0)))\n",
    "print(\"Variables eliminated: \" + str(sum(beta_vals == 0)))"
   ]
  },
  {
   "cell_type": "code",
   "execution_count": 57,
   "metadata": {
    "ExecuteTime": {
     "end_time": "2018-05-30T20:13:56.351187Z",
     "start_time": "2018-05-30T20:13:56.345314Z"
    }
   },
   "outputs": [
    {
     "name": "stdout",
     "output_type": "stream",
     "text": [
      "RoofMatl_ClyTile        -0.703243\n",
      "MSZoning_C (all)        -0.292333\n",
      "Condition2_PosN         -0.190563\n",
      "Neighborhood_Edwards    -0.052388\n",
      "SaleCondition_Abnorml   -0.046832\n",
      "MSZoning_RM             -0.037929\n",
      "CentralAir_N            -0.035162\n",
      "GarageCond_Fa           -0.032055\n",
      "LandContour_Bnk         -0.030943\n",
      "SaleType_WD             -0.030842\n",
      "dtype: float64\n",
      "OverallQual             0.053173\n",
      "KitchenQual_Ex          0.063831\n",
      "Exterior1st_BrkFace     0.070378\n",
      "Neighborhood_NridgHt    0.071545\n",
      "LotArea                 0.071575\n",
      "Functional_Typ          0.072469\n",
      "Neighborhood_NoRidge    0.086291\n",
      "Neighborhood_Crawfor    0.104851\n",
      "Neighborhood_StoneBr    0.112555\n",
      "GrLivArea               0.397878\n",
      "dtype: float64\n"
     ]
    }
   ],
   "source": [
    "print(beta_vals.sort_values().head(10))\n",
    "print(beta_vals.sort_values().tail(10))"
   ]
  },
  {
   "cell_type": "code",
   "execution_count": 58,
   "metadata": {
    "ExecuteTime": {
     "end_time": "2018-05-30T20:13:57.085524Z",
     "start_time": "2018-05-30T20:13:56.777748Z"
    }
   },
   "outputs": [
    {
     "data": {
      "image/png": "[encoded data removed]",
      "text/plain": [
       "<Figure size 864x432 with 1 Axes>"
      ]
     },
     "metadata": {},
     "output_type": "display_data"
    }
   ],
   "source": [
    "important_feat = pd.concat([beta_vals.sort_values().head(10), beta_vals.sort_values().tail(10)])\n",
    "\n",
    "important_feat.plot(kind = \"barh\")\n",
    "plt.title(\"Coefficients in the Lasso Model\")\n",
    "plt.show()"
   ]
  },
  {
   "cell_type": "markdown",
   "metadata": {},
   "source": [
    "This last cell generated the predictions, and then creates the csv file for Kaggle submission.\n",
    "\n",
    "As a sidenote, since we performed a log transformation of `np.log1p` on the Sale Price in the beginning, we must do `np.expm1` on the predicted prices to bring it back to the original scale."
   ]
  },
  {
   "cell_type": "code",
   "execution_count": 196,
   "metadata": {
    "ExecuteTime": {
     "end_time": "2018-05-30T16:50:11.548852Z",
     "start_time": "2018-05-30T16:50:11.541187Z"
    }
   },
   "outputs": [],
   "source": [
    "pred = np.expm1(model_lasso.predict(X_test))\n",
    "\n",
    "submission = pd.DataFrame({'Id': test.Id, 'SalePrice': pred})\n",
    "submission.to_csv('attempt1.csv', index=False)"
   ]
  },
  {
   "cell_type": "code",
   "execution_count": null,
   "metadata": {},
   "outputs": [],
   "source": []
  }
 ],
 "metadata": {
  "kernelspec": {
   "display_name": "Python 3",
   "language": "python",
   "name": "python3"
  },
  "language_info": {
   "codemirror_mode": {
    "name": "ipython",
    "version": 3
   },
   "file_extension": ".py",
   "mimetype": "text/x-python",
   "name": "python",
   "nbconvert_exporter": "python",
   "pygments_lexer": "ipython3",
   "version": "3.6.5"
  },
  "varInspector": {
   "cols": {
    "lenName": 16,
    "lenType": 16,
    "lenVar": 40
   },
   "kernels_config": {
    "python": {
     "delete_cmd_postfix": "",
     "delete_cmd_prefix": "del ",
     "library": "var_list.py",
     "varRefreshCmd": "print(var_dic_list())"
    },
    "r": {
     "delete_cmd_postfix": ") ",
     "delete_cmd_prefix": "rm(",
     "library": "var_list.r",
     "varRefreshCmd": "cat(var_dic_list()) "
    }
   },
   "types_to_exclude": [
    "module",
    "function",
    "builtin_function_or_method",
    "instance",
    "_Feature"
   ],
   "window_display": false
  }
 },
 "nbformat": 4,
 "nbformat_minor": 2
}
